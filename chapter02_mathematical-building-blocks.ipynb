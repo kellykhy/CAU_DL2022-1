{
  "cells": [
    {
      "cell_type": "markdown",
      "metadata": {
        "id": "xPQJr2zvPXTg"
      },
      "source": [
        "This is a companion notebook for the book [Deep Learning with Python, Second Edition](https://www.manning.com/books/deep-learning-with-python-second-edition?a_aid=keras&a_bid=76564dff). For readability, it only contains runnable code blocks and section titles, and omits everything else in the book: text paragraphs, figures, and pseudocode.\n",
        "\n",
        "**If you want to be able to follow what's going on, I recommend reading the notebook side by side with your copy of the book.**\n",
        "\n",
        "This notebook was generated for TensorFlow 2.6."
      ]
    },
    {
      "cell_type": "markdown",
      "metadata": {
        "id": "ibgVTSPKPXTs"
      },
      "source": [
        "# The mathematical building blocks of neural networks"
      ]
    },
    {
      "cell_type": "markdown",
      "metadata": {
        "id": "SuP9nbb3PXTu"
      },
      "source": [
        "## A first look at a neural network"
      ]
    },
    {
      "cell_type": "markdown",
      "metadata": {
        "id": "SEuRDUXEPXTv"
      },
      "source": [
        "**Loading the MNIST dataset in Keras**"
      ]
    },
    {
      "cell_type": "code",
      "source": [
        "import tensorflow"
      ],
      "metadata": {
        "id": "OJfPzfYmP3Yn"
      },
      "execution_count": 6,
      "outputs": []
    },
    {
      "cell_type": "code",
      "source": [
        "(train_images, train_labels), (test_images, test_labels) = tensorflow.keras.datasets.mnist.load_data()"
      ],
      "metadata": {
        "colab": {
          "base_uri": "https://localhost:8080/"
        },
        "id": "HobTpB1M0FUQ",
        "outputId": "37edf0d4-3155-4170-f54e-85cefa92fe53"
      },
      "execution_count": 7,
      "outputs": [
        {
          "output_type": "stream",
          "name": "stdout",
          "text": [
            "Downloading data from https://storage.googleapis.com/tensorflow/tf-keras-datasets/mnist.npz\n",
            "11493376/11490434 [==============================] - 0s 0us/step\n",
            "11501568/11490434 [==============================] - 0s 0us/step\n"
          ]
        }
      ]
    },
    {
      "cell_type": "code",
      "execution_count": null,
      "metadata": {
        "id": "NmWItMOPPXTx"
      },
      "outputs": [],
      "source": [
        "#1 in case I just want to import mnist/ code above == this code\n",
        "\n",
        "'''\n",
        "from tensorflow.keras.datasets import mnist\n",
        "(train_images, train_labels), (test_images, test_labels) = mnist.load_data()\n",
        "'''"
      ]
    },
    {
      "cell_type": "code",
      "source": [
        "#2 tensorflow --> tf\n",
        "'''\n",
        "import tensorflow as tf\n",
        "(train_images, train_labels), (test_images, test_labels) = tf.keras.datasets.mnist.load_data()\n",
        "'''"
      ],
      "metadata": {
        "id": "jk2hSfZFR6zL"
      },
      "execution_count": null,
      "outputs": []
    },
    {
      "cell_type": "code",
      "source": [
        "train_images"
      ],
      "metadata": {
        "id": "_rm5KfEHSbfW",
        "outputId": "d091662f-5d95-4d7a-89cc-76296d6c82ca",
        "colab": {
          "base_uri": "https://localhost:8080/"
        }
      },
      "execution_count": 8,
      "outputs": [
        {
          "output_type": "execute_result",
          "data": {
            "text/plain": [
              "array([[[0, 0, 0, ..., 0, 0, 0],\n",
              "        [0, 0, 0, ..., 0, 0, 0],\n",
              "        [0, 0, 0, ..., 0, 0, 0],\n",
              "        ...,\n",
              "        [0, 0, 0, ..., 0, 0, 0],\n",
              "        [0, 0, 0, ..., 0, 0, 0],\n",
              "        [0, 0, 0, ..., 0, 0, 0]],\n",
              "\n",
              "       [[0, 0, 0, ..., 0, 0, 0],\n",
              "        [0, 0, 0, ..., 0, 0, 0],\n",
              "        [0, 0, 0, ..., 0, 0, 0],\n",
              "        ...,\n",
              "        [0, 0, 0, ..., 0, 0, 0],\n",
              "        [0, 0, 0, ..., 0, 0, 0],\n",
              "        [0, 0, 0, ..., 0, 0, 0]],\n",
              "\n",
              "       [[0, 0, 0, ..., 0, 0, 0],\n",
              "        [0, 0, 0, ..., 0, 0, 0],\n",
              "        [0, 0, 0, ..., 0, 0, 0],\n",
              "        ...,\n",
              "        [0, 0, 0, ..., 0, 0, 0],\n",
              "        [0, 0, 0, ..., 0, 0, 0],\n",
              "        [0, 0, 0, ..., 0, 0, 0]],\n",
              "\n",
              "       ...,\n",
              "\n",
              "       [[0, 0, 0, ..., 0, 0, 0],\n",
              "        [0, 0, 0, ..., 0, 0, 0],\n",
              "        [0, 0, 0, ..., 0, 0, 0],\n",
              "        ...,\n",
              "        [0, 0, 0, ..., 0, 0, 0],\n",
              "        [0, 0, 0, ..., 0, 0, 0],\n",
              "        [0, 0, 0, ..., 0, 0, 0]],\n",
              "\n",
              "       [[0, 0, 0, ..., 0, 0, 0],\n",
              "        [0, 0, 0, ..., 0, 0, 0],\n",
              "        [0, 0, 0, ..., 0, 0, 0],\n",
              "        ...,\n",
              "        [0, 0, 0, ..., 0, 0, 0],\n",
              "        [0, 0, 0, ..., 0, 0, 0],\n",
              "        [0, 0, 0, ..., 0, 0, 0]],\n",
              "\n",
              "       [[0, 0, 0, ..., 0, 0, 0],\n",
              "        [0, 0, 0, ..., 0, 0, 0],\n",
              "        [0, 0, 0, ..., 0, 0, 0],\n",
              "        ...,\n",
              "        [0, 0, 0, ..., 0, 0, 0],\n",
              "        [0, 0, 0, ..., 0, 0, 0],\n",
              "        [0, 0, 0, ..., 0, 0, 0]]], dtype=uint8)"
            ]
          },
          "metadata": {},
          "execution_count": 8
        }
      ]
    },
    {
      "cell_type": "code",
      "execution_count": 9,
      "metadata": {
        "id": "0eKkZvTnPXT1",
        "outputId": "d68911d2-7e7c-4011-e9cf-95a408d15049",
        "colab": {
          "base_uri": "https://localhost:8080/"
        }
      },
      "outputs": [
        {
          "output_type": "execute_result",
          "data": {
            "text/plain": [
              "(60000, 28, 28)"
            ]
          },
          "metadata": {},
          "execution_count": 9
        }
      ],
      "source": [
        "train_images.shape"
      ]
    },
    {
      "cell_type": "code",
      "execution_count": 10,
      "metadata": {
        "id": "u1e4h3t-PXT2",
        "outputId": "539eca2a-b7fe-475d-9652-623f9af4a0ff",
        "colab": {
          "base_uri": "https://localhost:8080/"
        }
      },
      "outputs": [
        {
          "output_type": "execute_result",
          "data": {
            "text/plain": [
              "60000"
            ]
          },
          "metadata": {},
          "execution_count": 10
        }
      ],
      "source": [
        "len(train_labels)"
      ]
    },
    {
      "cell_type": "code",
      "execution_count": 11,
      "metadata": {
        "id": "icw_H-MsPXT5",
        "outputId": "c53c4bb4-3c15-4b55-b2c1-98a4fbae16fa",
        "colab": {
          "base_uri": "https://localhost:8080/"
        }
      },
      "outputs": [
        {
          "output_type": "execute_result",
          "data": {
            "text/plain": [
              "array([5, 0, 4, ..., 5, 6, 8], dtype=uint8)"
            ]
          },
          "metadata": {},
          "execution_count": 11
        }
      ],
      "source": [
        "train_labels"
      ]
    },
    {
      "cell_type": "code",
      "execution_count": 12,
      "metadata": {
        "id": "srewiQINPXT8",
        "outputId": "a00aaf41-f103-4679-d815-103b199663c0",
        "colab": {
          "base_uri": "https://localhost:8080/"
        }
      },
      "outputs": [
        {
          "output_type": "execute_result",
          "data": {
            "text/plain": [
              "(10000, 28, 28)"
            ]
          },
          "metadata": {},
          "execution_count": 12
        }
      ],
      "source": [
        "test_images.shape"
      ]
    },
    {
      "cell_type": "code",
      "execution_count": 13,
      "metadata": {
        "id": "Cs9ioUalPXT-",
        "outputId": "a24505d9-0762-4d5e-9abe-b667dc398ced",
        "colab": {
          "base_uri": "https://localhost:8080/"
        }
      },
      "outputs": [
        {
          "output_type": "execute_result",
          "data": {
            "text/plain": [
              "10000"
            ]
          },
          "metadata": {},
          "execution_count": 13
        }
      ],
      "source": [
        "len(test_labels)"
      ]
    },
    {
      "cell_type": "code",
      "execution_count": 14,
      "metadata": {
        "id": "gmp0GgXVPXT_",
        "outputId": "5ab11574-68cf-4007-a4b1-be46e6b02f0f",
        "colab": {
          "base_uri": "https://localhost:8080/"
        }
      },
      "outputs": [
        {
          "output_type": "execute_result",
          "data": {
            "text/plain": [
              "array([7, 2, 1, ..., 4, 5, 6], dtype=uint8)"
            ]
          },
          "metadata": {},
          "execution_count": 14
        }
      ],
      "source": [
        "test_labels"
      ]
    },
    {
      "cell_type": "markdown",
      "metadata": {
        "id": "pqst93qAPXUA"
      },
      "source": [
        "**The network architecture**"
      ]
    },
    {
      "cell_type": "code",
      "execution_count": 15,
      "metadata": {
        "id": "0Cl5R1MuPXUB"
      },
      "outputs": [],
      "source": [
        "from tensorflow import keras\n",
        "from tensorflow.keras import layers\n",
        "model = keras.Sequential([\n",
        "    layers.Dense(512, activation=\"relu\"),\n",
        "    layers.Dense(10, activation=\"softmax\")\n",
        "])"
      ]
    },
    {
      "cell_type": "markdown",
      "metadata": {
        "id": "pdv2nS0aPXUD"
      },
      "source": [
        "**The compilation step**"
      ]
    },
    {
      "cell_type": "code",
      "execution_count": 16,
      "metadata": {
        "id": "IHG2Hw4-PXUE"
      },
      "outputs": [],
      "source": [
        "model.compile(optimizer=\"rmsprop\",\n",
        "              loss=\"sparse_categorical_crossentropy\",\n",
        "              metrics=[\"accuracy\"])"
      ]
    },
    {
      "cell_type": "markdown",
      "metadata": {
        "id": "j5helfjxPXUF"
      },
      "source": [
        "**Preparing the image data**"
      ]
    },
    {
      "cell_type": "code",
      "source": [
        "train_images[0].shape"
      ],
      "metadata": {
        "id": "i_5-lQQunoIC",
        "outputId": "30899481-c503-42df-be6b-314b54612dbd",
        "colab": {
          "base_uri": "https://localhost:8080/"
        }
      },
      "execution_count": 17,
      "outputs": [
        {
          "output_type": "execute_result",
          "data": {
            "text/plain": [
              "(28, 28)"
            ]
          },
          "metadata": {},
          "execution_count": 17
        }
      ]
    },
    {
      "cell_type": "code",
      "source": [
        "train_images = train_images.reshape((60000, 28 * 28))"
      ],
      "metadata": {
        "id": "_SXDrx55oMhe"
      },
      "execution_count": 18,
      "outputs": []
    },
    {
      "cell_type": "code",
      "source": [
        "train_images.shape"
      ],
      "metadata": {
        "id": "41a1jqJIo2ii",
        "outputId": "8d3dd921-08b0-4a7b-9ccd-8571347ce00d",
        "colab": {
          "base_uri": "https://localhost:8080/"
        }
      },
      "execution_count": 19,
      "outputs": [
        {
          "output_type": "execute_result",
          "data": {
            "text/plain": [
              "(60000, 784)"
            ]
          },
          "metadata": {},
          "execution_count": 19
        }
      ]
    },
    {
      "cell_type": "code",
      "source": [
        "train_images[0].shape"
      ],
      "metadata": {
        "id": "I-7Q9zJqowfz",
        "outputId": "c53b8463-8da4-4ca9-a87a-1b996b297844",
        "colab": {
          "base_uri": "https://localhost:8080/"
        }
      },
      "execution_count": 21,
      "outputs": [
        {
          "output_type": "execute_result",
          "data": {
            "text/plain": [
              "(784,)"
            ]
          },
          "metadata": {},
          "execution_count": 21
        }
      ]
    },
    {
      "cell_type": "code",
      "source": [
        "train_images[0]"
      ],
      "metadata": {
        "id": "i2flIG1hpFcA",
        "outputId": "31c18aaa-3857-432b-8a23-d9c9ea0f0711",
        "colab": {
          "base_uri": "https://localhost:8080/"
        }
      },
      "execution_count": 22,
      "outputs": [
        {
          "output_type": "execute_result",
          "data": {
            "text/plain": [
              "array([  0,   0,   0,   0,   0,   0,   0,   0,   0,   0,   0,   0,   0,\n",
              "         0,   0,   0,   0,   0,   0,   0,   0,   0,   0,   0,   0,   0,\n",
              "         0,   0,   0,   0,   0,   0,   0,   0,   0,   0,   0,   0,   0,\n",
              "         0,   0,   0,   0,   0,   0,   0,   0,   0,   0,   0,   0,   0,\n",
              "         0,   0,   0,   0,   0,   0,   0,   0,   0,   0,   0,   0,   0,\n",
              "         0,   0,   0,   0,   0,   0,   0,   0,   0,   0,   0,   0,   0,\n",
              "         0,   0,   0,   0,   0,   0,   0,   0,   0,   0,   0,   0,   0,\n",
              "         0,   0,   0,   0,   0,   0,   0,   0,   0,   0,   0,   0,   0,\n",
              "         0,   0,   0,   0,   0,   0,   0,   0,   0,   0,   0,   0,   0,\n",
              "         0,   0,   0,   0,   0,   0,   0,   0,   0,   0,   0,   0,   0,\n",
              "         0,   0,   0,   0,   0,   0,   0,   0,   0,   0,   0,   0,   0,\n",
              "         0,   0,   0,   0,   0,   0,   0,   0,   0,   3,  18,  18,  18,\n",
              "       126, 136, 175,  26, 166, 255, 247, 127,   0,   0,   0,   0,   0,\n",
              "         0,   0,   0,   0,   0,   0,   0,  30,  36,  94, 154, 170, 253,\n",
              "       253, 253, 253, 253, 225, 172, 253, 242, 195,  64,   0,   0,   0,\n",
              "         0,   0,   0,   0,   0,   0,   0,   0,  49, 238, 253, 253, 253,\n",
              "       253, 253, 253, 253, 253, 251,  93,  82,  82,  56,  39,   0,   0,\n",
              "         0,   0,   0,   0,   0,   0,   0,   0,   0,   0,  18, 219, 253,\n",
              "       253, 253, 253, 253, 198, 182, 247, 241,   0,   0,   0,   0,   0,\n",
              "         0,   0,   0,   0,   0,   0,   0,   0,   0,   0,   0,   0,   0,\n",
              "        80, 156, 107, 253, 253, 205,  11,   0,  43, 154,   0,   0,   0,\n",
              "         0,   0,   0,   0,   0,   0,   0,   0,   0,   0,   0,   0,   0,\n",
              "         0,   0,   0,  14,   1, 154, 253,  90,   0,   0,   0,   0,   0,\n",
              "         0,   0,   0,   0,   0,   0,   0,   0,   0,   0,   0,   0,   0,\n",
              "         0,   0,   0,   0,   0,   0,   0, 139, 253, 190,   2,   0,   0,\n",
              "         0,   0,   0,   0,   0,   0,   0,   0,   0,   0,   0,   0,   0,\n",
              "         0,   0,   0,   0,   0,   0,   0,   0,   0,  11, 190, 253,  70,\n",
              "         0,   0,   0,   0,   0,   0,   0,   0,   0,   0,   0,   0,   0,\n",
              "         0,   0,   0,   0,   0,   0,   0,   0,   0,   0,   0,   0,  35,\n",
              "       241, 225, 160, 108,   1,   0,   0,   0,   0,   0,   0,   0,   0,\n",
              "         0,   0,   0,   0,   0,   0,   0,   0,   0,   0,   0,   0,   0,\n",
              "         0,   0,  81, 240, 253, 253, 119,  25,   0,   0,   0,   0,   0,\n",
              "         0,   0,   0,   0,   0,   0,   0,   0,   0,   0,   0,   0,   0,\n",
              "         0,   0,   0,   0,   0,  45, 186, 253, 253, 150,  27,   0,   0,\n",
              "         0,   0,   0,   0,   0,   0,   0,   0,   0,   0,   0,   0,   0,\n",
              "         0,   0,   0,   0,   0,   0,   0,   0,  16,  93, 252, 253, 187,\n",
              "         0,   0,   0,   0,   0,   0,   0,   0,   0,   0,   0,   0,   0,\n",
              "         0,   0,   0,   0,   0,   0,   0,   0,   0,   0,   0,   0, 249,\n",
              "       253, 249,  64,   0,   0,   0,   0,   0,   0,   0,   0,   0,   0,\n",
              "         0,   0,   0,   0,   0,   0,   0,   0,   0,   0,   0,  46, 130,\n",
              "       183, 253, 253, 207,   2,   0,   0,   0,   0,   0,   0,   0,   0,\n",
              "         0,   0,   0,   0,   0,   0,   0,   0,   0,   0,   0,  39, 148,\n",
              "       229, 253, 253, 253, 250, 182,   0,   0,   0,   0,   0,   0,   0,\n",
              "         0,   0,   0,   0,   0,   0,   0,   0,   0,   0,   0,  24, 114,\n",
              "       221, 253, 253, 253, 253, 201,  78,   0,   0,   0,   0,   0,   0,\n",
              "         0,   0,   0,   0,   0,   0,   0,   0,   0,   0,   0,  23,  66,\n",
              "       213, 253, 253, 253, 253, 198,  81,   2,   0,   0,   0,   0,   0,\n",
              "         0,   0,   0,   0,   0,   0,   0,   0,   0,   0,   0,  18, 171,\n",
              "       219, 253, 253, 253, 253, 195,  80,   9,   0,   0,   0,   0,   0,\n",
              "         0,   0,   0,   0,   0,   0,   0,   0,   0,   0,   0,  55, 172,\n",
              "       226, 253, 253, 253, 253, 244, 133,  11,   0,   0,   0,   0,   0,\n",
              "         0,   0,   0,   0,   0,   0,   0,   0,   0,   0,   0,   0,   0,\n",
              "       136, 253, 253, 253, 212, 135, 132,  16,   0,   0,   0,   0,   0,\n",
              "         0,   0,   0,   0,   0,   0,   0,   0,   0,   0,   0,   0,   0,\n",
              "         0,   0,   0,   0,   0,   0,   0,   0,   0,   0,   0,   0,   0,\n",
              "         0,   0,   0,   0,   0,   0,   0,   0,   0,   0,   0,   0,   0,\n",
              "         0,   0,   0,   0,   0,   0,   0,   0,   0,   0,   0,   0,   0,\n",
              "         0,   0,   0,   0,   0,   0,   0,   0,   0,   0,   0,   0,   0,\n",
              "         0,   0,   0,   0,   0,   0,   0,   0,   0,   0,   0,   0,   0,\n",
              "         0,   0,   0,   0,   0,   0,   0,   0,   0,   0,   0,   0,   0,\n",
              "         0,   0,   0,   0], dtype=uint8)"
            ]
          },
          "metadata": {},
          "execution_count": 22
        }
      ]
    },
    {
      "cell_type": "markdown",
      "source": [
        ""
      ],
      "metadata": {
        "id": "CPk5bKcHowUD"
      }
    },
    {
      "cell_type": "code",
      "source": [
        "train_images = train_images.astype(\"float32\") / 255"
      ],
      "metadata": {
        "id": "qzm5uYqZpWXT"
      },
      "execution_count": 26,
      "outputs": []
    },
    {
      "cell_type": "code",
      "source": [
        "test_images = test_images.reshape((10000, 28 * 28))\n",
        "test_images = test_images.astype(\"float32\") / 255"
      ],
      "metadata": {
        "id": "D1wu6RHKpbAY"
      },
      "execution_count": 27,
      "outputs": []
    },
    {
      "cell_type": "code",
      "execution_count": 28,
      "metadata": {
        "id": "7fmXbeYWPXUG"
      },
      "outputs": [],
      "source": [
        "'''\n",
        "train_images = train_images.reshape((60000, 28 * 28))\n",
        "train_images = train_images.astype(\"float32\") / 255\n",
        "test_images = test_images.reshape((10000, 28 * 28))\n",
        "test_images = test_images.astype(\"float32\") / 255\n",
        "'''"
      ]
    },
    {
      "cell_type": "markdown",
      "metadata": {
        "id": "fcW4V3j9PXUH"
      },
      "source": [
        "**\"Fitting\" the model**"
      ]
    },
    {
      "cell_type": "code",
      "execution_count": 29,
      "metadata": {
        "id": "yhf1uCfUPXUH",
        "outputId": "b459ddfb-6c0d-4fec-def7-a5b6121630c0",
        "colab": {
          "base_uri": "https://localhost:8080/"
        }
      },
      "outputs": [
        {
          "output_type": "stream",
          "name": "stdout",
          "text": [
            "Epoch 1/5\n",
            "469/469 [==============================] - 4s 3ms/step - loss: 1.5054 - accuracy: 0.6572\n",
            "Epoch 2/5\n",
            "469/469 [==============================] - 1s 3ms/step - loss: 0.6081 - accuracy: 0.8485\n",
            "Epoch 3/5\n",
            "469/469 [==============================] - 1s 3ms/step - loss: 0.4210 - accuracy: 0.8871\n",
            "Epoch 4/5\n",
            "469/469 [==============================] - 1s 3ms/step - loss: 0.3592 - accuracy: 0.8996\n",
            "Epoch 5/5\n",
            "469/469 [==============================] - 1s 3ms/step - loss: 0.3283 - accuracy: 0.9058\n"
          ]
        },
        {
          "output_type": "execute_result",
          "data": {
            "text/plain": [
              "<keras.callbacks.History at 0x7f25403a9490>"
            ]
          },
          "metadata": {},
          "execution_count": 29
        }
      ],
      "source": [
        "model.fit(train_images, train_labels, epochs=5, batch_size=128)"
      ]
    },
    {
      "cell_type": "code",
      "source": [
        "model.summary()"
      ],
      "metadata": {
        "id": "_RAzmTI_ppuc",
        "outputId": "f6b0f26c-6fcf-40d1-9596-22831d4921fc",
        "colab": {
          "base_uri": "https://localhost:8080/"
        }
      },
      "execution_count": 30,
      "outputs": [
        {
          "output_type": "stream",
          "name": "stdout",
          "text": [
            "Model: \"sequential\"\n",
            "_________________________________________________________________\n",
            " Layer (type)                Output Shape              Param #   \n",
            "=================================================================\n",
            " dense (Dense)               (None, 512)               401920    \n",
            "                                                                 \n",
            " dense_1 (Dense)             (None, 10)                5130      \n",
            "                                                                 \n",
            "=================================================================\n",
            "Total params: 407,050\n",
            "Trainable params: 407,050\n",
            "Non-trainable params: 0\n",
            "_________________________________________________________________\n"
          ]
        }
      ]
    },
    {
      "cell_type": "markdown",
      "metadata": {
        "id": "At8tC4hVPXUI"
      },
      "source": [
        "**Using the model to make predictions**"
      ]
    },
    {
      "cell_type": "code",
      "source": [
        "test_images.shape"
      ],
      "metadata": {
        "id": "PsaAomSQq0Vh",
        "outputId": "2deda6d7-eca2-4f0a-a501-bdc607812fd6",
        "colab": {
          "base_uri": "https://localhost:8080/"
        }
      },
      "execution_count": 31,
      "outputs": [
        {
          "output_type": "execute_result",
          "data": {
            "text/plain": [
              "(10000, 784)"
            ]
          },
          "metadata": {},
          "execution_count": 31
        }
      ]
    },
    {
      "cell_type": "code",
      "source": [
        "test_digits = test_images[0:10] # take first 10 images"
      ],
      "metadata": {
        "id": "zkJqEC47quwa"
      },
      "execution_count": 34,
      "outputs": []
    },
    {
      "cell_type": "code",
      "source": [
        "test_digits.shape"
      ],
      "metadata": {
        "id": "fK7eL1u8qv4x",
        "outputId": "0a5577f8-68ba-46f5-b201-f461fcd1877e",
        "colab": {
          "base_uri": "https://localhost:8080/"
        }
      },
      "execution_count": 33,
      "outputs": [
        {
          "output_type": "execute_result",
          "data": {
            "text/plain": [
              "(10, 784)"
            ]
          },
          "metadata": {},
          "execution_count": 33
        }
      ]
    },
    {
      "cell_type": "code",
      "execution_count": 35,
      "metadata": {
        "id": "nzPHxXRtPXUJ",
        "outputId": "9128c6f9-5dfc-4c30-e125-292150a5e7e5",
        "colab": {
          "base_uri": "https://localhost:8080/"
        }
      },
      "outputs": [
        {
          "output_type": "execute_result",
          "data": {
            "text/plain": [
              "array([4.5852321e-05, 5.6987801e-08, 2.1815991e-05, 5.7461642e-04,\n",
              "       1.3212691e-06, 2.2982475e-05, 1.0754666e-08, 9.9786311e-01,\n",
              "       7.2536868e-06, 1.4630092e-03], dtype=float32)"
            ]
          },
          "metadata": {},
          "execution_count": 35
        }
      ],
      "source": [
        "#test_digits = test_images[0:10]\n",
        "predictions = model.predict(test_digits)\n",
        "predictions[0]"
      ]
    },
    {
      "cell_type": "code",
      "execution_count": 36,
      "metadata": {
        "id": "B_yYlCmBPXUK",
        "outputId": "a2e126bb-c7b7-40bd-c40b-f0b507fe545d",
        "colab": {
          "base_uri": "https://localhost:8080/"
        }
      },
      "outputs": [
        {
          "output_type": "execute_result",
          "data": {
            "text/plain": [
              "7"
            ]
          },
          "metadata": {},
          "execution_count": 36
        }
      ],
      "source": [
        "predictions[0].argmax()"
      ]
    },
    {
      "cell_type": "code",
      "execution_count": 37,
      "metadata": {
        "id": "6QZk2sASPXUL",
        "outputId": "409f1c09-7396-4f06-f60c-4827effa678d",
        "colab": {
          "base_uri": "https://localhost:8080/"
        }
      },
      "outputs": [
        {
          "output_type": "execute_result",
          "data": {
            "text/plain": [
              "0.9978631"
            ]
          },
          "metadata": {},
          "execution_count": 37
        }
      ],
      "source": [
        "predictions[0][7]"
      ]
    },
    {
      "cell_type": "code",
      "execution_count": 38,
      "metadata": {
        "id": "fbwVxWEbPXUL",
        "outputId": "64d51a88-255c-4e66-c3dd-fc4880512d7c",
        "colab": {
          "base_uri": "https://localhost:8080/"
        }
      },
      "outputs": [
        {
          "output_type": "execute_result",
          "data": {
            "text/plain": [
              "7"
            ]
          },
          "metadata": {},
          "execution_count": 38
        }
      ],
      "source": [
        "test_labels[0]"
      ]
    },
    {
      "cell_type": "markdown",
      "metadata": {
        "id": "OB9KZrUfPXUM"
      },
      "source": [
        "**Evaluating the model on new data**"
      ]
    },
    {
      "cell_type": "code",
      "execution_count": 39,
      "metadata": {
        "id": "lqjcNsY3PXUN",
        "outputId": "7d9b37e0-8dc8-49a1-e062-09d1edc7c69e",
        "colab": {
          "base_uri": "https://localhost:8080/"
        }
      },
      "outputs": [
        {
          "output_type": "stream",
          "name": "stdout",
          "text": [
            "313/313 [==============================] - 1s 2ms/step - loss: 0.3074 - accuracy: 0.9128\n",
            "test_acc: 0.9128000140190125\n"
          ]
        }
      ],
      "source": [
        "test_loss, test_acc = model.evaluate(test_images, test_labels)\n",
        "print(f\"test_acc: {test_acc}\")"
      ]
    },
    {
      "cell_type": "markdown",
      "metadata": {
        "id": "yDDBYG4vPXUN"
      },
      "source": [
        "## Data representations for neural networks"
      ]
    },
    {
      "cell_type": "markdown",
      "metadata": {
        "id": "zMxY1RDZPXUN"
      },
      "source": [
        "### Scalars (rank-0 tensors)"
      ]
    },
    {
      "cell_type": "code",
      "execution_count": 40,
      "metadata": {
        "id": "q-sapMKfPXUO",
        "outputId": "faed64ef-3430-447f-fcb8-fcbb24cb58b3",
        "colab": {
          "base_uri": "https://localhost:8080/"
        }
      },
      "outputs": [
        {
          "output_type": "execute_result",
          "data": {
            "text/plain": [
              "array(12)"
            ]
          },
          "metadata": {},
          "execution_count": 40
        }
      ],
      "source": [
        "import numpy as np\n",
        "x = np.array(12)\n",
        "x"
      ]
    },
    {
      "cell_type": "code",
      "execution_count": 41,
      "metadata": {
        "id": "p29RiLaSPXUP",
        "outputId": "cde20a73-f493-4d2a-e43b-1cbebcccb814",
        "colab": {
          "base_uri": "https://localhost:8080/"
        }
      },
      "outputs": [
        {
          "output_type": "execute_result",
          "data": {
            "text/plain": [
              "0"
            ]
          },
          "metadata": {},
          "execution_count": 41
        }
      ],
      "source": [
        "x.ndim"
      ]
    },
    {
      "cell_type": "markdown",
      "metadata": {
        "id": "-CY1Zi9TPXUP"
      },
      "source": [
        "### Vectors (rank-1 tensors)"
      ]
    },
    {
      "cell_type": "code",
      "execution_count": 42,
      "metadata": {
        "id": "c48TWjo8PXUP",
        "outputId": "9d0e19df-322a-40bc-bb36-b5002359858f",
        "colab": {
          "base_uri": "https://localhost:8080/"
        }
      },
      "outputs": [
        {
          "output_type": "execute_result",
          "data": {
            "text/plain": [
              "array([12,  3,  6, 14,  7])"
            ]
          },
          "metadata": {},
          "execution_count": 42
        }
      ],
      "source": [
        "x = np.array([12, 3, 6, 14, 7])\n",
        "x"
      ]
    },
    {
      "cell_type": "code",
      "execution_count": 43,
      "metadata": {
        "id": "2_ncmqrSPXUQ",
        "outputId": "b9d04268-8e6b-4c2e-b4a5-924b7073d050",
        "colab": {
          "base_uri": "https://localhost:8080/"
        }
      },
      "outputs": [
        {
          "output_type": "execute_result",
          "data": {
            "text/plain": [
              "1"
            ]
          },
          "metadata": {},
          "execution_count": 43
        }
      ],
      "source": [
        "x.ndim"
      ]
    },
    {
      "cell_type": "markdown",
      "metadata": {
        "id": "92VPccZ7PXUQ"
      },
      "source": [
        "### Matrices (rank-2 tensors)"
      ]
    },
    {
      "cell_type": "code",
      "execution_count": 44,
      "metadata": {
        "id": "TPoYTXRzPXUR",
        "outputId": "4cb5ef49-08c4-46f0-b33f-b26c61328c69",
        "colab": {
          "base_uri": "https://localhost:8080/"
        }
      },
      "outputs": [
        {
          "output_type": "execute_result",
          "data": {
            "text/plain": [
              "2"
            ]
          },
          "metadata": {},
          "execution_count": 44
        }
      ],
      "source": [
        "x = np.array([[5, 78, 2, 34, 0],\n",
        "              [6, 79, 3, 35, 1],\n",
        "              [7, 80, 4, 36, 2]])\n",
        "x.ndim"
      ]
    },
    {
      "cell_type": "markdown",
      "metadata": {
        "id": "f65Fug8OPXUR"
      },
      "source": [
        "### Rank-3 and higher-rank tensors"
      ]
    },
    {
      "cell_type": "code",
      "execution_count": 45,
      "metadata": {
        "id": "Zan3vRKZPXUS",
        "outputId": "5a98100e-d1e5-4b40-9959-dab0687da0b3",
        "colab": {
          "base_uri": "https://localhost:8080/"
        }
      },
      "outputs": [
        {
          "output_type": "execute_result",
          "data": {
            "text/plain": [
              "3"
            ]
          },
          "metadata": {},
          "execution_count": 45
        }
      ],
      "source": [
        "x = np.array([[[5, 78, 2, 34, 0],\n",
        "               [6, 79, 3, 35, 1],\n",
        "               [7, 80, 4, 36, 2]],\n",
        "              [[5, 78, 2, 34, 0],\n",
        "               [6, 79, 3, 35, 1],\n",
        "               [7, 80, 4, 36, 2]],\n",
        "              [[5, 78, 2, 34, 0],\n",
        "               [6, 79, 3, 35, 1],\n",
        "               [7, 80, 4, 36, 2]]])\n",
        "x.ndim"
      ]
    },
    {
      "cell_type": "markdown",
      "metadata": {
        "id": "n8ZsdXbvPXUT"
      },
      "source": [
        "### Key attributes"
      ]
    },
    {
      "cell_type": "code",
      "execution_count": 46,
      "metadata": {
        "id": "Dbv2pJf6PXUT"
      },
      "outputs": [],
      "source": [
        "from tensorflow.keras.datasets import mnist\n",
        "(train_images, train_labels), (test_images, test_labels) = mnist.load_data()"
      ]
    },
    {
      "cell_type": "code",
      "execution_count": 47,
      "metadata": {
        "id": "YSdD3H0wPXUU",
        "outputId": "88083f5e-9989-4f0d-9418-74e1f4889456",
        "colab": {
          "base_uri": "https://localhost:8080/"
        }
      },
      "outputs": [
        {
          "output_type": "execute_result",
          "data": {
            "text/plain": [
              "3"
            ]
          },
          "metadata": {},
          "execution_count": 47
        }
      ],
      "source": [
        "train_images.ndim"
      ]
    },
    {
      "cell_type": "code",
      "execution_count": 48,
      "metadata": {
        "id": "09aWhYyuPXUU",
        "outputId": "db9c2e40-27fb-4f30-ac10-ace5b926b6cb",
        "colab": {
          "base_uri": "https://localhost:8080/"
        }
      },
      "outputs": [
        {
          "output_type": "execute_result",
          "data": {
            "text/plain": [
              "(60000, 28, 28)"
            ]
          },
          "metadata": {},
          "execution_count": 48
        }
      ],
      "source": [
        "train_images.shape"
      ]
    },
    {
      "cell_type": "code",
      "execution_count": 49,
      "metadata": {
        "id": "uOjUKcWEPXUV",
        "outputId": "700b4742-9e6d-4442-dfd6-ef86fda19d76",
        "colab": {
          "base_uri": "https://localhost:8080/"
        }
      },
      "outputs": [
        {
          "output_type": "execute_result",
          "data": {
            "text/plain": [
              "dtype('uint8')"
            ]
          },
          "metadata": {},
          "execution_count": 49
        }
      ],
      "source": [
        "train_images.dtype"
      ]
    },
    {
      "cell_type": "code",
      "source": [
        "2**8 # each values: 0-255"
      ],
      "metadata": {
        "id": "ViPLM1h_tV7H",
        "outputId": "89c3b3ef-6c83-46bf-f41f-07f9aa4ff1c1",
        "colab": {
          "base_uri": "https://localhost:8080/"
        }
      },
      "execution_count": 50,
      "outputs": [
        {
          "output_type": "execute_result",
          "data": {
            "text/plain": [
              "256"
            ]
          },
          "metadata": {},
          "execution_count": 50
        }
      ]
    },
    {
      "cell_type": "markdown",
      "metadata": {
        "id": "py8ZGtfIPXUV"
      },
      "source": [
        "**Displaying the fourth digit**"
      ]
    },
    {
      "cell_type": "code",
      "execution_count": 52,
      "metadata": {
        "id": "Qn_vpR6OPXUW",
        "outputId": "e86d42d1-4b17-4b54-d307-e457e47f7158",
        "colab": {
          "base_uri": "https://localhost:8080/",
          "height": 265
        }
      },
      "outputs": [
        {
          "output_type": "display_data",
          "data": {
            "text/plain": [
              "<Figure size 432x288 with 1 Axes>"
            ],
            "image/png": "[encoded data removed]"
          },
          "metadata": {
            "needs_background": "light"
          }
        }
      ],
      "source": [
        "import matplotlib.pyplot as plt\n",
        "digit = train_images[4]\n",
        "plt.imshow(digit, cmap=plt.cm.binary)\n",
        "plt.show()"
      ]
    },
    {
      "cell_type": "code",
      "execution_count": 53,
      "metadata": {
        "id": "JUPVpjE2PXUW",
        "outputId": "a5fda38e-c448-42ee-bcbf-dd6bfdb8cc20",
        "colab": {
          "base_uri": "https://localhost:8080/"
        }
      },
      "outputs": [
        {
          "output_type": "execute_result",
          "data": {
            "text/plain": [
              "9"
            ]
          },
          "metadata": {},
          "execution_count": 53
        }
      ],
      "source": [
        "train_labels[4]"
      ]
    },
    {
      "cell_type": "markdown",
      "metadata": {
        "id": "GYLBRTWxPXUW"
      },
      "source": [
        "### Manipulating tensors in NumPy"
      ]
    },
    {
      "cell_type": "code",
      "source": [
        "train_images.shape"
      ],
      "metadata": {
        "id": "Mov-GD_nu2Ab",
        "outputId": "202175f0-1099-4434-a9ae-627c87b1b7df",
        "colab": {
          "base_uri": "https://localhost:8080/"
        }
      },
      "execution_count": 54,
      "outputs": [
        {
          "output_type": "execute_result",
          "data": {
            "text/plain": [
              "(60000, 28, 28)"
            ]
          },
          "metadata": {},
          "execution_count": 54
        }
      ]
    },
    {
      "cell_type": "code",
      "execution_count": 55,
      "metadata": {
        "id": "n4MLCRfqPXUX",
        "outputId": "703365c0-94d5-4bc6-cb92-20ec0ca062ce",
        "colab": {
          "base_uri": "https://localhost:8080/"
        }
      },
      "outputs": [
        {
          "output_type": "execute_result",
          "data": {
            "text/plain": [
              "(90, 28, 28)"
            ]
          },
          "metadata": {},
          "execution_count": 55
        }
      ],
      "source": [
        "my_slice = train_images[10:100]\n",
        "my_slice.shape"
      ]
    },
    {
      "cell_type": "code",
      "execution_count": 56,
      "metadata": {
        "id": "xAUwewtWPXUX",
        "outputId": "4d8b04d2-ceec-4615-d6e1-2052af1951ab",
        "colab": {
          "base_uri": "https://localhost:8080/"
        }
      },
      "outputs": [
        {
          "output_type": "execute_result",
          "data": {
            "text/plain": [
              "(90, 28, 28)"
            ]
          },
          "metadata": {},
          "execution_count": 56
        }
      ],
      "source": [
        "my_slice = train_images[10:100, :, :]\n",
        "my_slice.shape"
      ]
    },
    {
      "cell_type": "code",
      "execution_count": 57,
      "metadata": {
        "id": "IX40qQyzPXUY",
        "outputId": "255acff2-473a-4405-8172-698b3a369460",
        "colab": {
          "base_uri": "https://localhost:8080/"
        }
      },
      "outputs": [
        {
          "output_type": "execute_result",
          "data": {
            "text/plain": [
              "(90, 28, 28)"
            ]
          },
          "metadata": {},
          "execution_count": 57
        }
      ],
      "source": [
        "my_slice = train_images[10:100, 0:28, 0:28]\n",
        "my_slice.shape"
      ]
    },
    {
      "cell_type": "code",
      "execution_count": 71,
      "metadata": {
        "id": "O3LeQbyoPXUY"
      },
      "outputs": [],
      "source": [
        "my_slice = train_images[:, 14:, 14:]"
      ]
    },
    {
      "cell_type": "code",
      "source": [
        "plt.imshow(my_slice[0], cmap=plt.cm.binary)\n",
        "plt.show()"
      ],
      "metadata": {
        "id": "_PuX56onvn1T",
        "outputId": "247d37f2-cf37-40c7-9232-8a69ad8104d6",
        "colab": {
          "base_uri": "https://localhost:8080/",
          "height": 265
        }
      },
      "execution_count": 72,
      "outputs": [
        {
          "output_type": "display_data",
          "data": {
            "text/plain": [
              "<Figure size 432x288 with 1 Axes>"
            ],
            "image/png": "[encoded data removed]"
          },
          "metadata": {
            "needs_background": "light"
          }
        }
      ]
    },
    {
      "cell_type": "code",
      "execution_count": 63,
      "metadata": {
        "id": "8Jx_O1DoPXUY"
      },
      "outputs": [],
      "source": [
        "my_slice = train_images[:, 7:-7, 7:-7]"
      ]
    },
    {
      "cell_type": "code",
      "source": [
        "plt.imshow(my_slice[0], cmap=plt.cm.binary)\n",
        "plt.show()"
      ],
      "metadata": {
        "id": "4ECkltYDvfn0",
        "outputId": "0f6ceb68-16c1-4af3-ca4a-cab9683cb76a",
        "colab": {
          "base_uri": "https://localhost:8080/",
          "height": 265
        }
      },
      "execution_count": 64,
      "outputs": [
        {
          "output_type": "display_data",
          "data": {
            "text/plain": [
              "<Figure size 432x288 with 1 Axes>"
            ],
            "image/png": "[encoded data removed]"
          },
          "metadata": {
            "needs_background": "light"
          }
        }
      ]
    },
    {
      "cell_type": "code",
      "source": [
        "train_labels[0]"
      ],
      "metadata": {
        "colab": {
          "base_uri": "https://localhost:8080/"
        },
        "id": "6gptClihIXsN",
        "outputId": "4007652a-511f-4ddc-efd7-7c628a3d97c8"
      },
      "execution_count": 66,
      "outputs": [
        {
          "output_type": "execute_result",
          "data": {
            "text/plain": [
              "5"
            ]
          },
          "metadata": {},
          "execution_count": 66
        }
      ]
    },
    {
      "cell_type": "markdown",
      "metadata": {
        "id": "jonSocyEPXUZ"
      },
      "source": [
        "### The notion of data batches"
      ]
    },
    {
      "cell_type": "code",
      "execution_count": null,
      "metadata": {
        "id": "0lbWFxYDPXUZ"
      },
      "outputs": [],
      "source": [
        "batch = train_images[:128]"
      ]
    },
    {
      "cell_type": "code",
      "execution_count": null,
      "metadata": {
        "id": "z7JvEFGaPXUa"
      },
      "outputs": [],
      "source": [
        "batch = train_images[128:256]"
      ]
    },
    {
      "cell_type": "code",
      "execution_count": null,
      "metadata": {
        "id": "fw61rnu6PXUa"
      },
      "outputs": [],
      "source": [
        "n = 3\n",
        "batch = train_images[128 * n:128 * (n + 1)]"
      ]
    },
    {
      "cell_type": "markdown",
      "metadata": {
        "id": "FccLFrgePXUb"
      },
      "source": [
        "### Real-world examples of data tensors"
      ]
    },
    {
      "cell_type": "markdown",
      "metadata": {
        "id": "-dWOsyk9PXUb"
      },
      "source": [
        "### Vector data"
      ]
    },
    {
      "cell_type": "markdown",
      "metadata": {
        "id": "CpYVIPayPXUc"
      },
      "source": [
        "### Timeseries data or sequence data"
      ]
    },
    {
      "cell_type": "markdown",
      "metadata": {
        "id": "qMgiWq-zPXUc"
      },
      "source": [
        "### Image data"
      ]
    },
    {
      "cell_type": "markdown",
      "metadata": {
        "id": "Jzhy03JZPXUd"
      },
      "source": [
        "### Video data"
      ]
    },
    {
      "cell_type": "markdown",
      "metadata": {
        "id": "krwZ170cPXUd"
      },
      "source": [
        "## The gears of neural networks: tensor operations"
      ]
    },
    {
      "cell_type": "markdown",
      "metadata": {
        "id": "l8r-IG2xPXUd"
      },
      "source": [
        "### Element-wise operations"
      ]
    },
    {
      "cell_type": "code",
      "execution_count": 87,
      "metadata": {
        "id": "78rRv7szPXUe"
      },
      "outputs": [],
      "source": [
        "def naive_relu(x):\n",
        "    assert len(x.shape) == 2, 'x.ndim() must be 2'\n",
        "    x = x.copy() # 해당 코드가 없으면 함수 실행 후 x를 출력하면 x의 각 요소값이 바뀌어있음.(아래 설명)\n",
        "    for i in range(x.shape[0]):\n",
        "        for j in range(x.shape[1]):\n",
        "            x[i, j] = max(x[i, j], 0)\n",
        "    return x"
      ]
    },
    {
      "cell_type": "code",
      "source": [
        "''' 중요!!!\n",
        "y = x           -> y와 x가 동일한 memory slot(address)을 share.\n",
        "                -> x를 바꾸면 y가 함께 바뀜.\n",
        "y = x.copy()    -> x의 사본을 만들어서 사용함. x와 y는 별개가 됨.\n",
        "'''"
      ],
      "metadata": {
        "id": "EHBqobjN4017"
      },
      "execution_count": null,
      "outputs": []
    },
    {
      "cell_type": "code",
      "source": [
        "import numpy as np"
      ],
      "metadata": {
        "id": "bWo0Ve-I3Emm"
      },
      "execution_count": 76,
      "outputs": []
    },
    {
      "cell_type": "code",
      "source": [
        "x1 = np.array([[1,-2,3], [2,3,-1]])\n",
        "x1"
      ],
      "metadata": {
        "id": "YOqXOCfL3FCY",
        "outputId": "5d6c6c04-6b4c-4d44-dc29-2d213bf718a7",
        "colab": {
          "base_uri": "https://localhost:8080/"
        }
      },
      "execution_count": 77,
      "outputs": [
        {
          "output_type": "execute_result",
          "data": {
            "text/plain": [
              "array([[ 1, -2,  3],\n",
              "       [ 2,  3, -1]])"
            ]
          },
          "metadata": {},
          "execution_count": 77
        }
      ]
    },
    {
      "cell_type": "code",
      "source": [
        "x1.ndim # x1.ndim == len(x1.shape)"
      ],
      "metadata": {
        "id": "JxH7DRtE3YLz",
        "outputId": "54fe66f5-4bfe-473c-970d-37c7f9f2658f",
        "colab": {
          "base_uri": "https://localhost:8080/"
        }
      },
      "execution_count": 80,
      "outputs": [
        {
          "output_type": "execute_result",
          "data": {
            "text/plain": [
              "2"
            ]
          },
          "metadata": {},
          "execution_count": 80
        }
      ]
    },
    {
      "cell_type": "code",
      "source": [
        "x1.shape"
      ],
      "metadata": {
        "id": "YD5dzo6G3iPo",
        "outputId": "4e2f4ffe-ab2d-456e-d105-72dab0e5fce5",
        "colab": {
          "base_uri": "https://localhost:8080/"
        }
      },
      "execution_count": 78,
      "outputs": [
        {
          "output_type": "execute_result",
          "data": {
            "text/plain": [
              "(2, 3)"
            ]
          },
          "metadata": {},
          "execution_count": 78
        }
      ]
    },
    {
      "cell_type": "code",
      "source": [
        "len(x1.shape)"
      ],
      "metadata": {
        "id": "xAWQhGbj3dap",
        "outputId": "afa1acfa-a912-4fc9-ae55-d0f338c67421",
        "colab": {
          "base_uri": "https://localhost:8080/"
        }
      },
      "execution_count": 79,
      "outputs": [
        {
          "output_type": "execute_result",
          "data": {
            "text/plain": [
              "2"
            ]
          },
          "metadata": {},
          "execution_count": 79
        }
      ]
    },
    {
      "cell_type": "code",
      "source": [
        "x1"
      ],
      "metadata": {
        "id": "TuCh5PMP377u",
        "outputId": "69fcd4bb-e3b6-41be-b6b8-1cb56ebb588e",
        "colab": {
          "base_uri": "https://localhost:8080/"
        }
      },
      "execution_count": 81,
      "outputs": [
        {
          "output_type": "execute_result",
          "data": {
            "text/plain": [
              "array([[ 1, -2,  3],\n",
              "       [ 2,  3, -1]])"
            ]
          },
          "metadata": {},
          "execution_count": 81
        }
      ]
    },
    {
      "cell_type": "code",
      "source": [
        "naive_relu(x1)"
      ],
      "metadata": {
        "id": "DFyJEWtq32Uk",
        "outputId": "842af0cd-a488-498d-b718-cc1f756b67b7",
        "colab": {
          "base_uri": "https://localhost:8080/"
        }
      },
      "execution_count": 84,
      "outputs": [
        {
          "output_type": "execute_result",
          "data": {
            "text/plain": [
              "array([[1, 0, 3],\n",
              "       [2, 3, 0]])"
            ]
          },
          "metadata": {},
          "execution_count": 84
        }
      ]
    },
    {
      "cell_type": "code",
      "source": [
        "x2 = np.array([1,2,3,-4])"
      ],
      "metadata": {
        "id": "Fez7Mlp332NM"
      },
      "execution_count": 85,
      "outputs": []
    },
    {
      "cell_type": "code",
      "source": [
        "naive_relu(x2)"
      ],
      "metadata": {
        "colab": {
          "base_uri": "https://localhost:8080/",
          "height": 299
        },
        "id": "lfFshi0xPRbG",
        "outputId": "35fbcb98-d9f4-415b-da3f-595455c89c8a"
      },
      "execution_count": 88,
      "outputs": [
        {
          "output_type": "error",
          "ename": "AssertionError",
          "evalue": "ignored",
          "traceback": [
            "\u001b[0;31m---------------------------------------------------------------------------\u001b[0m",
            "\u001b[0;31mAssertionError\u001b[0m                            Traceback (most recent call last)",
            "\u001b[0;32m<ipython-input-88-ce1e90309a93>\u001b[0m in \u001b[0;36m<module>\u001b[0;34m()\u001b[0m\n\u001b[0;32m----> 1\u001b[0;31m \u001b[0mnaive_relu\u001b[0m\u001b[0;34m(\u001b[0m\u001b[0mx2\u001b[0m\u001b[0;34m)\u001b[0m\u001b[0;34m\u001b[0m\u001b[0;34m\u001b[0m\u001b[0m\n\u001b[0m",
            "\u001b[0;32m<ipython-input-87-95ab984477d7>\u001b[0m in \u001b[0;36mnaive_relu\u001b[0;34m(x)\u001b[0m\n\u001b[1;32m      1\u001b[0m \u001b[0;32mdef\u001b[0m \u001b[0mnaive_relu\u001b[0m\u001b[0;34m(\u001b[0m\u001b[0mx\u001b[0m\u001b[0;34m)\u001b[0m\u001b[0;34m:\u001b[0m\u001b[0;34m\u001b[0m\u001b[0;34m\u001b[0m\u001b[0m\n\u001b[0;32m----> 2\u001b[0;31m     \u001b[0;32massert\u001b[0m \u001b[0mlen\u001b[0m\u001b[0;34m(\u001b[0m\u001b[0mx\u001b[0m\u001b[0;34m.\u001b[0m\u001b[0mshape\u001b[0m\u001b[0;34m)\u001b[0m \u001b[0;34m==\u001b[0m \u001b[0;36m2\u001b[0m\u001b[0;34m,\u001b[0m \u001b[0;34m'x.ndim() must be 2'\u001b[0m\u001b[0;34m\u001b[0m\u001b[0;34m\u001b[0m\u001b[0m\n\u001b[0m\u001b[1;32m      3\u001b[0m     \u001b[0mx\u001b[0m \u001b[0;34m=\u001b[0m \u001b[0mx\u001b[0m\u001b[0;34m.\u001b[0m\u001b[0mcopy\u001b[0m\u001b[0;34m(\u001b[0m\u001b[0;34m)\u001b[0m \u001b[0;31m# 해당 코드가 없으면 함수 실행 후 x를 출력하면 x의 각 요소값이 바뀌어있음.(아래 설명)\u001b[0m\u001b[0;34m\u001b[0m\u001b[0;34m\u001b[0m\u001b[0m\n\u001b[1;32m      4\u001b[0m     \u001b[0;32mfor\u001b[0m \u001b[0mi\u001b[0m \u001b[0;32min\u001b[0m \u001b[0mrange\u001b[0m\u001b[0;34m(\u001b[0m\u001b[0mx\u001b[0m\u001b[0;34m.\u001b[0m\u001b[0mshape\u001b[0m\u001b[0;34m[\u001b[0m\u001b[0;36m0\u001b[0m\u001b[0;34m]\u001b[0m\u001b[0;34m)\u001b[0m\u001b[0;34m:\u001b[0m\u001b[0;34m\u001b[0m\u001b[0;34m\u001b[0m\u001b[0m\n\u001b[1;32m      5\u001b[0m         \u001b[0;32mfor\u001b[0m \u001b[0mj\u001b[0m \u001b[0;32min\u001b[0m \u001b[0mrange\u001b[0m\u001b[0;34m(\u001b[0m\u001b[0mx\u001b[0m\u001b[0;34m.\u001b[0m\u001b[0mshape\u001b[0m\u001b[0;34m[\u001b[0m\u001b[0;36m1\u001b[0m\u001b[0;34m]\u001b[0m\u001b[0;34m)\u001b[0m\u001b[0;34m:\u001b[0m\u001b[0;34m\u001b[0m\u001b[0;34m\u001b[0m\u001b[0m\n",
            "\u001b[0;31mAssertionError\u001b[0m: x.ndim() must be 2"
          ]
        }
      ]
    },
    {
      "cell_type": "code",
      "execution_count": 89,
      "metadata": {
        "id": "JDwwP6fqPXUe"
      },
      "outputs": [],
      "source": [
        "def naive_add(x, y):\n",
        "    assert len(x.shape) == 2\n",
        "    assert x.shape == y.shape\n",
        "    x = x.copy()\n",
        "    for i in range(x.shape[0]):\n",
        "        for j in range(x.shape[1]):\n",
        "            x[i, j] += y[i, j]\n",
        "    return x"
      ]
    },
    {
      "cell_type": "markdown",
      "source": [
        "cmp1) coded version of addition and relu\n",
        "\n",
        "> FASTER than naive implementation\n",
        "\n",
        "\n",
        "\n"
      ],
      "metadata": {
        "id": "_K3Bm0zoTnyB"
      }
    },
    {
      "cell_type": "code",
      "execution_count": 90,
      "metadata": {
        "id": "VCsJIUiuPXUf",
        "outputId": "bb4c12ff-c58f-4b4c-9e02-3abd98b7f998",
        "colab": {
          "base_uri": "https://localhost:8080/"
        }
      },
      "outputs": [
        {
          "output_type": "stream",
          "name": "stdout",
          "text": [
            "Took: 0.01 s\n"
          ]
        }
      ],
      "source": [
        "import time\n",
        "\n",
        "x = np.random.random((20, 100))\n",
        "y = np.random.random((20, 100))\n",
        " \n",
        "t0 = time.time()\n",
        "for _ in range(1000):\n",
        "    z = x + y\n",
        "    z = np.maximum(z, 0.)\n",
        "print(\"Took: {0:.2f} s\".format(time.time() - t0))"
      ]
    },
    {
      "cell_type": "markdown",
      "source": [
        "cmp2) naive version of addition and relu\n",
        "\n",
        "\n",
        "> SLOWER than coded version\n",
        "\n"
      ],
      "metadata": {
        "id": "nxV5S8aaT3d2"
      }
    },
    {
      "cell_type": "code",
      "execution_count": 91,
      "metadata": {
        "id": "U85cPbD9PXUf",
        "outputId": "c1f4723f-10b1-4e5b-d0fe-a0ca225eae0b",
        "colab": {
          "base_uri": "https://localhost:8080/"
        }
      },
      "outputs": [
        {
          "output_type": "stream",
          "name": "stdout",
          "text": [
            "Took: 1.82 s\n"
          ]
        }
      ],
      "source": [
        "t0 = time.time()\n",
        "for _ in range(1000):\n",
        "    z = naive_add(x, y)\n",
        "    z = naive_relu(z)\n",
        "print(\"Took: {0:.2f} s\".format(time.time() - t0))"
      ]
    },
    {
      "cell_type": "markdown",
      "metadata": {
        "id": "jyCsH0XmPXUg"
      },
      "source": [
        "### Broadcasting"
      ]
    },
    {
      "cell_type": "code",
      "execution_count": 110,
      "metadata": {
        "id": "_o3Aa4-KPXUg"
      },
      "outputs": [],
      "source": [
        "import numpy as np\n",
        "X = np.random.random((32, 10))\n",
        "y = np.random.random((10,))"
      ]
    },
    {
      "cell_type": "code",
      "source": [
        "X.shape"
      ],
      "metadata": {
        "id": "FaRLMDfKU2J4",
        "outputId": "aa7a3c0f-1948-47af-f224-b9d8cb80438a",
        "colab": {
          "base_uri": "https://localhost:8080/"
        }
      },
      "execution_count": 95,
      "outputs": [
        {
          "output_type": "execute_result",
          "data": {
            "text/plain": [
              "(32, 10)"
            ]
          },
          "metadata": {},
          "execution_count": 95
        }
      ]
    },
    {
      "cell_type": "code",
      "source": [
        "X"
      ],
      "metadata": {
        "colab": {
          "base_uri": "https://localhost:8080/"
        },
        "id": "HkCn-lUFUZIz",
        "outputId": "322e39f8-66ae-4745-d95c-361b7e98c097"
      },
      "execution_count": 109,
      "outputs": [
        {
          "output_type": "execute_result",
          "data": {
            "text/plain": [
              "array([[0.94868271, 0.62374816, 0.74056993, 0.66866927, 0.18315572,\n",
              "        0.1470028 , 0.81857225, 0.30189455, 0.38312119, 0.90978364],\n",
              "       [0.10264114, 0.3252714 , 0.71627495, 0.33619974, 0.37518583,\n",
              "        0.62212072, 0.46780273, 0.83220061, 0.20414786, 0.25617038],\n",
              "       [0.41183675, 0.7884386 , 0.63080407, 0.19794219, 0.25444933,\n",
              "        0.15629071, 0.72378869, 0.11471202, 0.49682581, 0.27362217],\n",
              "       [0.75738879, 0.7299333 , 0.09635305, 0.07104631, 0.01746719,\n",
              "        0.25565612, 0.92830984, 0.57994513, 0.70416421, 0.08511291],\n",
              "       [0.64101132, 0.42410249, 0.72389366, 0.30294458, 0.24964731,\n",
              "        0.81393644, 0.80543081, 0.74019011, 0.3911316 , 0.41647322],\n",
              "       [0.81190594, 0.60861133, 0.06624601, 0.20803403, 0.10595591,\n",
              "        0.92439115, 0.22042448, 0.24623106, 0.66487497, 0.15671089],\n",
              "       [0.6220352 , 0.58270122, 0.11092089, 0.22403805, 0.08890451,\n",
              "        0.15151186, 0.77284264, 0.85454036, 0.05972947, 0.56526449],\n",
              "       [0.66455307, 0.37577606, 0.14258897, 0.87137577, 0.84482687,\n",
              "        0.47723971, 0.03431389, 0.43990676, 0.64534281, 0.51643462],\n",
              "       [0.39862632, 0.28293428, 0.15733194, 0.51490658, 0.03376576,\n",
              "        0.96883694, 0.86048773, 0.93118515, 0.50463138, 0.22154223],\n",
              "       [0.48911262, 0.00434917, 0.71864925, 0.74915347, 0.26766496,\n",
              "        0.33669939, 0.61273485, 0.58298532, 0.82314076, 0.42929029],\n",
              "       [0.25702634, 0.31514004, 0.49452008, 0.53703697, 0.31674834,\n",
              "        0.70388765, 0.22129178, 0.00563336, 0.19254592, 0.1341489 ],\n",
              "       [0.63265795, 0.94086283, 0.70135566, 0.97966384, 0.43223628,\n",
              "        0.75597894, 0.29801044, 0.83419822, 0.82016083, 0.55521359],\n",
              "       [0.2531386 , 0.69947497, 0.71172473, 0.31680485, 0.97900896,\n",
              "        0.69943293, 0.89715407, 0.75688709, 0.80102583, 0.99644414],\n",
              "       [0.97133543, 0.24814073, 0.03950448, 0.12484038, 0.27676164,\n",
              "        0.55487729, 0.63636542, 0.48372566, 0.27948584, 0.76170398],\n",
              "       [0.89043233, 0.29354138, 0.37497529, 0.03250003, 0.2751773 ,\n",
              "        0.90578788, 0.6604952 , 0.46673125, 0.20220161, 0.79865438],\n",
              "       [0.51263034, 0.04297474, 0.58967081, 0.05318743, 0.15988454,\n",
              "        0.51624031, 0.0711686 , 0.50782748, 0.87227177, 0.85742404],\n",
              "       [0.26809723, 0.48537496, 0.59899871, 0.10948226, 0.06876411,\n",
              "        0.76788526, 0.88432994, 0.58540913, 0.27916754, 0.88522783],\n",
              "       [0.31775994, 0.41062595, 0.65746409, 0.28436155, 0.53148353,\n",
              "        0.91146938, 0.45005536, 0.68756822, 0.6299747 , 0.02253844],\n",
              "       [0.87593671, 0.45473895, 0.16990518, 0.52863977, 0.30153635,\n",
              "        0.46273863, 0.64806334, 0.94991091, 0.15567256, 0.36449227],\n",
              "       [0.59558101, 0.74510738, 0.04909352, 0.62499009, 0.44482879,\n",
              "        0.97293844, 0.00827423, 0.53912833, 0.27110092, 0.61839228],\n",
              "       [0.73433566, 0.99095538, 0.77773297, 0.28572279, 0.21116761,\n",
              "        0.65194196, 0.07442441, 0.75723701, 0.13593738, 0.46973395],\n",
              "       [0.81621947, 0.1130259 , 0.08275695, 0.24759128, 0.01009859,\n",
              "        0.45116366, 0.20322837, 0.19595447, 0.46385495, 0.30132467],\n",
              "       [0.15887638, 0.42570121, 0.75626389, 0.31770945, 0.40126324,\n",
              "        0.18967106, 0.47167911, 0.8681787 , 0.19170814, 0.60487559],\n",
              "       [0.30822316, 0.85361963, 0.10925304, 0.68436967, 0.98626383,\n",
              "        0.80014074, 0.17755093, 0.2652735 , 0.70642546, 0.42526318],\n",
              "       [0.56467701, 0.06672205, 0.53401178, 0.7473866 , 0.60786474,\n",
              "        0.33470505, 0.50237826, 0.67075958, 0.40019987, 0.83846457],\n",
              "       [0.61014406, 0.24251736, 0.30556584, 0.41501036, 0.9043951 ,\n",
              "        0.55344517, 0.1982311 , 0.92381222, 0.32785295, 0.86439942],\n",
              "       [0.34822636, 0.57990574, 0.80229819, 0.64053579, 0.27443102,\n",
              "        0.09934235, 0.86939669, 0.04600228, 0.30869477, 0.69882073],\n",
              "       [0.71266743, 0.5653511 , 0.04635957, 0.8160301 , 0.22984688,\n",
              "        0.46722608, 0.5658566 , 0.86925718, 0.01205787, 0.89128513],\n",
              "       [0.07024107, 0.07190234, 0.73714025, 0.88849986, 0.62329304,\n",
              "        0.23260282, 0.51956142, 0.62227256, 0.04239701, 0.95279795],\n",
              "       [0.60729352, 0.51790967, 0.60341727, 0.07238139, 0.21555622,\n",
              "        0.78788824, 0.87808055, 0.1406089 , 0.00815146, 0.22802301],\n",
              "       [0.45684253, 0.45349178, 0.70524193, 0.497128  , 0.66175036,\n",
              "        0.49039642, 0.6708607 , 0.18879968, 0.39621136, 0.49239385],\n",
              "       [0.09977149, 0.93080026, 0.37208691, 0.59857717, 0.3102572 ,\n",
              "        0.53072774, 0.88829611, 0.23826717, 0.12148126, 0.770466  ]])"
            ]
          },
          "metadata": {},
          "execution_count": 109
        }
      ]
    },
    {
      "cell_type": "code",
      "source": [
        "y.shape"
      ],
      "metadata": {
        "id": "wjH0G7haU3qh",
        "outputId": "8829fcc8-82c6-48c5-dc04-a9232f0724f4",
        "colab": {
          "base_uri": "https://localhost:8080/"
        }
      },
      "execution_count": 96,
      "outputs": [
        {
          "output_type": "execute_result",
          "data": {
            "text/plain": [
              "(10,)"
            ]
          },
          "metadata": {},
          "execution_count": 96
        }
      ]
    },
    {
      "cell_type": "code",
      "source": [
        "y"
      ],
      "metadata": {
        "colab": {
          "base_uri": "https://localhost:8080/"
        },
        "id": "dFr2ZqdmUcpN",
        "outputId": "18aa430b-bc6c-4a91-e5af-868e263bc64c"
      },
      "execution_count": 98,
      "outputs": [
        {
          "output_type": "execute_result",
          "data": {
            "text/plain": [
              "array([0.23316403, 0.76788182, 0.65484026, 0.48061694, 0.82189696,\n",
              "       0.39797549, 0.53689102, 0.77317568, 0.57714129, 0.51362286])"
            ]
          },
          "metadata": {},
          "execution_count": 98
        }
      ]
    },
    {
      "cell_type": "code",
      "execution_count": 99,
      "metadata": {
        "id": "QsoFkmliPXUh"
      },
      "outputs": [],
      "source": [
        "y = np.expand_dims(y, axis=0) #axis = 0 의 의미: 첫번째 축에 차원 추가 / shape (10,)->(1,10)"
      ]
    },
    {
      "cell_type": "code",
      "source": [
        "y"
      ],
      "metadata": {
        "id": "WleB9uHyWqxi",
        "outputId": "0a229126-267c-4581-ce36-9c6e006c848f",
        "colab": {
          "base_uri": "https://localhost:8080/"
        }
      },
      "execution_count": 100,
      "outputs": [
        {
          "output_type": "execute_result",
          "data": {
            "text/plain": [
              "array([[0.23316403, 0.76788182, 0.65484026, 0.48061694, 0.82189696,\n",
              "        0.39797549, 0.53689102, 0.77317568, 0.57714129, 0.51362286]])"
            ]
          },
          "metadata": {},
          "execution_count": 100
        }
      ]
    },
    {
      "cell_type": "code",
      "source": [
        "y.shape"
      ],
      "metadata": {
        "colab": {
          "base_uri": "https://localhost:8080/"
        },
        "id": "tFJgFOnXUtqA",
        "outputId": "9566c79f-4ab8-4291-e315-502775cb3ebe"
      },
      "execution_count": 101,
      "outputs": [
        {
          "output_type": "execute_result",
          "data": {
            "text/plain": [
              "(1, 10)"
            ]
          },
          "metadata": {},
          "execution_count": 101
        }
      ]
    },
    {
      "cell_type": "code",
      "execution_count": 102,
      "metadata": {
        "id": "0kFDgrovPXUh"
      },
      "outputs": [],
      "source": [
        "Y = np.concatenate([y] * 32, axis=0)"
      ]
    },
    {
      "cell_type": "code",
      "source": [
        "Y.shape"
      ],
      "metadata": {
        "id": "7MAFCSCeWtLt",
        "outputId": "bc92fa40-8f95-45e5-b432-106f5e144bb0",
        "colab": {
          "base_uri": "https://localhost:8080/"
        }
      },
      "execution_count": 103,
      "outputs": [
        {
          "output_type": "execute_result",
          "data": {
            "text/plain": [
              "(32, 10)"
            ]
          },
          "metadata": {},
          "execution_count": 103
        }
      ]
    },
    {
      "cell_type": "code",
      "source": [
        "X+y"
      ],
      "metadata": {
        "colab": {
          "base_uri": "https://localhost:8080/"
        },
        "id": "mc2GuHxMWWnr",
        "outputId": "2ae51f08-a59d-429f-89b4-7381cf275d76"
      },
      "execution_count": 112,
      "outputs": [
        {
          "output_type": "execute_result",
          "data": {
            "text/plain": [
              "array([[1.69159445, 0.67544499, 1.14725061, 0.58889061, 1.87373659,\n",
              "        1.11589155, 0.94024493, 0.8357366 , 1.83339085, 0.78313965],\n",
              "       [1.38132764, 0.74263028, 0.88968752, 1.1189577 , 1.20683193,\n",
              "        0.80013546, 1.39280095, 1.19055445, 1.07383937, 0.23933999],\n",
              "       [0.99706063, 0.90120904, 0.3822239 , 1.27690473, 1.71335351,\n",
              "        0.98422323, 0.6441047 , 0.86183853, 1.66814966, 0.77068335],\n",
              "       [1.44853729, 0.92065931, 0.53473926, 0.43165155, 1.80804945,\n",
              "        1.40307193, 0.87902262, 1.488295  , 1.43129427, 0.63053601],\n",
              "       [1.7047194 , 0.72296988, 1.00431447, 0.83007404, 1.69656325,\n",
              "        1.04971646, 1.2503511 , 1.08272179, 0.87267137, 0.19945472],\n",
              "       [1.11278298, 1.47217981, 0.27185294, 1.25545767, 1.6800676 ,\n",
              "        0.7161956 , 0.73926744, 1.43642989, 0.90428037, 0.31162985],\n",
              "       [1.97279473, 1.13359255, 0.27386014, 1.37865696, 1.81900111,\n",
              "        1.46260841, 0.75538252, 1.27715888, 1.65277047, 0.95264208],\n",
              "       [1.32836496, 0.75547273, 1.07401459, 1.0627787 , 1.92743327,\n",
              "        0.70308305, 1.29205518, 1.65077543, 1.65652825, 0.75183692],\n",
              "       [1.12835683, 0.90153675, 0.16391252, 0.42055475, 1.74460104,\n",
              "        1.3915296 , 1.04644241, 1.75861225, 0.9227135 , 1.03677042],\n",
              "       [1.46603948, 1.5878058 , 0.73705874, 1.31122277, 1.92075363,\n",
              "        0.85155941, 1.44957273, 1.38669656, 1.82334166, 0.15574992],\n",
              "       [1.73130012, 0.98484602, 0.68402921, 1.30619037, 1.00665086,\n",
              "        1.22605807, 1.54124017, 1.64863604, 1.21517025, 0.91236305],\n",
              "       [1.85664344, 1.39659903, 0.18680987, 0.77370633, 1.27491779,\n",
              "        1.22190636, 1.08732736, 1.66794577, 1.80843484, 0.82254038],\n",
              "       [1.66824478, 1.36820683, 1.01991426, 0.62200958, 1.01886134,\n",
              "        1.36636664, 0.89684183, 1.09122414, 0.97953957, 0.65076955],\n",
              "       [1.76858771, 0.97736115, 0.59215275, 0.58309839, 1.1500534 ,\n",
              "        1.21363739, 1.60086731, 1.56536138, 1.7451283 , 0.68610373],\n",
              "       [1.43886014, 1.25346853, 0.66427801, 0.46155966, 1.95277313,\n",
              "        1.1377533 , 1.15317577, 1.22308791, 1.06906983, 0.73274864],\n",
              "       [1.34314204, 1.01149916, 0.64995381, 0.65843619, 1.67692266,\n",
              "        0.51812938, 1.32632011, 1.18877389, 0.91854715, 0.3109246 ],\n",
              "       [1.35641784, 1.58999785, 0.81231544, 0.40303447, 1.58151292,\n",
              "        1.10914768, 1.59845556, 1.78120279, 1.6376159 , 0.23170225],\n",
              "       [1.10266062, 0.99808911, 0.42459569, 0.94566075, 1.92480312,\n",
              "        1.33107757, 1.02256701, 1.0339431 , 1.00494086, 0.79992313],\n",
              "       [1.88075691, 0.93771043, 0.91169567, 1.20198746, 1.17695786,\n",
              "        1.08616429, 1.06508413, 1.63692055, 1.70904041, 0.20463668],\n",
              "       [1.77507419, 0.82899586, 0.26662747, 0.99389419, 1.22513559,\n",
              "        1.19255398, 1.48038349, 1.21147716, 1.2058612 , 0.15936276],\n",
              "       [1.25994475, 0.97689431, 0.78050915, 0.45785254, 1.76545073,\n",
              "        0.50654189, 0.90034047, 1.24320241, 1.41982964, 0.60066805],\n",
              "       [1.76088636, 1.12941123, 0.92801166, 0.77849312, 1.87437067,\n",
              "        0.70559731, 1.24817804, 1.42644422, 1.79721404, 0.24218408],\n",
              "       [1.62209847, 1.38628571, 0.40730965, 0.96523907, 1.79228907,\n",
              "        0.70619875, 0.78576019, 1.01781512, 0.98056436, 0.1459487 ],\n",
              "       [1.81922649, 1.27031706, 0.52629308, 1.3222277 , 1.60188975,\n",
              "        1.41764996, 1.01461278, 1.74620027, 1.03154618, 0.95493246],\n",
              "       [1.93381977, 1.38208771, 1.06039309, 0.76982688, 1.67327616,\n",
              "        0.78695037, 1.41440412, 1.09917705, 1.23113428, 0.52292947],\n",
              "       [1.2321386 , 1.57077467, 0.76663189, 1.25780652, 0.98535658,\n",
              "        0.77649878, 1.12759877, 1.78702163, 1.24183285, 0.97596941],\n",
              "       [1.5570216 , 1.25870498, 0.17986181, 1.27857806, 1.01260201,\n",
              "        0.86751588, 1.28411132, 1.09627365, 1.22255566, 1.01270997],\n",
              "       [1.44654914, 0.71220184, 0.30513889, 0.61045429, 1.30384257,\n",
              "        0.76611144, 0.6694269 , 1.29802416, 1.66741334, 0.6219648 ],\n",
              "       [1.72117251, 1.64454101, 0.63727749, 0.3826979 , 1.90834007,\n",
              "        0.71037251, 1.42936893, 1.2829087 , 1.08666539, 1.05786662],\n",
              "       [1.15812402, 1.59572668, 0.7500344 , 1.12854188, 1.23332908,\n",
              "        0.81958552, 0.6742491 , 1.2378768 , 1.31284934, 0.5238695 ],\n",
              "       [1.61952892, 0.95880977, 0.93334335, 1.04047722, 1.67970975,\n",
              "        1.47369877, 1.34175688, 1.34071737, 0.9673119 , 0.6499037 ],\n",
              "       [1.13299417, 1.60292063, 0.91426247, 0.81810065, 1.05572967,\n",
              "        1.45769717, 0.75058863, 0.83632914, 1.65884468, 0.53082468]])"
            ]
          },
          "metadata": {},
          "execution_count": 112
        }
      ]
    },
    {
      "cell_type": "code",
      "execution_count": 113,
      "metadata": {
        "id": "fMeAh2LZPXUh"
      },
      "outputs": [],
      "source": [
        "def naive_add_matrix_and_vector(x, y):\n",
        "    assert len(x.shape) == 2\n",
        "    assert len(y.shape) == 1\n",
        "    assert x.shape[1] == y.shape[0] # 1D tensor에서 shape[0]는 행렬 차원에서는 열 수라고도 볼 수 있음.\n",
        "    x = x.copy()\n",
        "    for i in range(x.shape[0]):\n",
        "        for j in range(x.shape[1]):\n",
        "            x[i, j] += y[j]\n",
        "    return x"
      ]
    },
    {
      "cell_type": "code",
      "source": [
        "naive_add_matrix_and_vector(X, y)"
      ],
      "metadata": {
        "colab": {
          "base_uri": "https://localhost:8080/"
        },
        "id": "Z34hwIYCWxnA",
        "outputId": "a416315c-2fd9-4d63-9924-0f35dbda6824"
      },
      "execution_count": 114,
      "outputs": [
        {
          "output_type": "execute_result",
          "data": {
            "text/plain": [
              "array([[1.69159445, 0.67544499, 1.14725061, 0.58889061, 1.87373659,\n",
              "        1.11589155, 0.94024493, 0.8357366 , 1.83339085, 0.78313965],\n",
              "       [1.38132764, 0.74263028, 0.88968752, 1.1189577 , 1.20683193,\n",
              "        0.80013546, 1.39280095, 1.19055445, 1.07383937, 0.23933999],\n",
              "       [0.99706063, 0.90120904, 0.3822239 , 1.27690473, 1.71335351,\n",
              "        0.98422323, 0.6441047 , 0.86183853, 1.66814966, 0.77068335],\n",
              "       [1.44853729, 0.92065931, 0.53473926, 0.43165155, 1.80804945,\n",
              "        1.40307193, 0.87902262, 1.488295  , 1.43129427, 0.63053601],\n",
              "       [1.7047194 , 0.72296988, 1.00431447, 0.83007404, 1.69656325,\n",
              "        1.04971646, 1.2503511 , 1.08272179, 0.87267137, 0.19945472],\n",
              "       [1.11278298, 1.47217981, 0.27185294, 1.25545767, 1.6800676 ,\n",
              "        0.7161956 , 0.73926744, 1.43642989, 0.90428037, 0.31162985],\n",
              "       [1.97279473, 1.13359255, 0.27386014, 1.37865696, 1.81900111,\n",
              "        1.46260841, 0.75538252, 1.27715888, 1.65277047, 0.95264208],\n",
              "       [1.32836496, 0.75547273, 1.07401459, 1.0627787 , 1.92743327,\n",
              "        0.70308305, 1.29205518, 1.65077543, 1.65652825, 0.75183692],\n",
              "       [1.12835683, 0.90153675, 0.16391252, 0.42055475, 1.74460104,\n",
              "        1.3915296 , 1.04644241, 1.75861225, 0.9227135 , 1.03677042],\n",
              "       [1.46603948, 1.5878058 , 0.73705874, 1.31122277, 1.92075363,\n",
              "        0.85155941, 1.44957273, 1.38669656, 1.82334166, 0.15574992],\n",
              "       [1.73130012, 0.98484602, 0.68402921, 1.30619037, 1.00665086,\n",
              "        1.22605807, 1.54124017, 1.64863604, 1.21517025, 0.91236305],\n",
              "       [1.85664344, 1.39659903, 0.18680987, 0.77370633, 1.27491779,\n",
              "        1.22190636, 1.08732736, 1.66794577, 1.80843484, 0.82254038],\n",
              "       [1.66824478, 1.36820683, 1.01991426, 0.62200958, 1.01886134,\n",
              "        1.36636664, 0.89684183, 1.09122414, 0.97953957, 0.65076955],\n",
              "       [1.76858771, 0.97736115, 0.59215275, 0.58309839, 1.1500534 ,\n",
              "        1.21363739, 1.60086731, 1.56536138, 1.7451283 , 0.68610373],\n",
              "       [1.43886014, 1.25346853, 0.66427801, 0.46155966, 1.95277313,\n",
              "        1.1377533 , 1.15317577, 1.22308791, 1.06906983, 0.73274864],\n",
              "       [1.34314204, 1.01149916, 0.64995381, 0.65843619, 1.67692266,\n",
              "        0.51812938, 1.32632011, 1.18877389, 0.91854715, 0.3109246 ],\n",
              "       [1.35641784, 1.58999785, 0.81231544, 0.40303447, 1.58151292,\n",
              "        1.10914768, 1.59845556, 1.78120279, 1.6376159 , 0.23170225],\n",
              "       [1.10266062, 0.99808911, 0.42459569, 0.94566075, 1.92480312,\n",
              "        1.33107757, 1.02256701, 1.0339431 , 1.00494086, 0.79992313],\n",
              "       [1.88075691, 0.93771043, 0.91169567, 1.20198746, 1.17695786,\n",
              "        1.08616429, 1.06508413, 1.63692055, 1.70904041, 0.20463668],\n",
              "       [1.77507419, 0.82899586, 0.26662747, 0.99389419, 1.22513559,\n",
              "        1.19255398, 1.48038349, 1.21147716, 1.2058612 , 0.15936276],\n",
              "       [1.25994475, 0.97689431, 0.78050915, 0.45785254, 1.76545073,\n",
              "        0.50654189, 0.90034047, 1.24320241, 1.41982964, 0.60066805],\n",
              "       [1.76088636, 1.12941123, 0.92801166, 0.77849312, 1.87437067,\n",
              "        0.70559731, 1.24817804, 1.42644422, 1.79721404, 0.24218408],\n",
              "       [1.62209847, 1.38628571, 0.40730965, 0.96523907, 1.79228907,\n",
              "        0.70619875, 0.78576019, 1.01781512, 0.98056436, 0.1459487 ],\n",
              "       [1.81922649, 1.27031706, 0.52629308, 1.3222277 , 1.60188975,\n",
              "        1.41764996, 1.01461278, 1.74620027, 1.03154618, 0.95493246],\n",
              "       [1.93381977, 1.38208771, 1.06039309, 0.76982688, 1.67327616,\n",
              "        0.78695037, 1.41440412, 1.09917705, 1.23113428, 0.52292947],\n",
              "       [1.2321386 , 1.57077467, 0.76663189, 1.25780652, 0.98535658,\n",
              "        0.77649878, 1.12759877, 1.78702163, 1.24183285, 0.97596941],\n",
              "       [1.5570216 , 1.25870498, 0.17986181, 1.27857806, 1.01260201,\n",
              "        0.86751588, 1.28411132, 1.09627365, 1.22255566, 1.01270997],\n",
              "       [1.44654914, 0.71220184, 0.30513889, 0.61045429, 1.30384257,\n",
              "        0.76611144, 0.6694269 , 1.29802416, 1.66741334, 0.6219648 ],\n",
              "       [1.72117251, 1.64454101, 0.63727749, 0.3826979 , 1.90834007,\n",
              "        0.71037251, 1.42936893, 1.2829087 , 1.08666539, 1.05786662],\n",
              "       [1.15812402, 1.59572668, 0.7500344 , 1.12854188, 1.23332908,\n",
              "        0.81958552, 0.6742491 , 1.2378768 , 1.31284934, 0.5238695 ],\n",
              "       [1.61952892, 0.95880977, 0.93334335, 1.04047722, 1.67970975,\n",
              "        1.47369877, 1.34175688, 1.34071737, 0.9673119 , 0.6499037 ],\n",
              "       [1.13299417, 1.60292063, 0.91426247, 0.81810065, 1.05572967,\n",
              "        1.45769717, 0.75058863, 0.83632914, 1.65884468, 0.53082468]])"
            ]
          },
          "metadata": {},
          "execution_count": 114
        }
      ]
    },
    {
      "cell_type": "code",
      "execution_count": 130,
      "metadata": {
        "id": "ztOHNPsQPXUi"
      },
      "outputs": [],
      "source": [
        "import numpy as np\n",
        "x = np.random.random((64, 3, 32, 10))\n",
        "y = np.random.random((32, 10))\n",
        "z = np.maximum(x, y) # maximum(a1,a2)에서 a1.ndim != a2.ndim이면 하나를 broadcasting해주고 나서 각각의 위치에서의 maximum value를 넣어줌."
      ]
    },
    {
      "cell_type": "code",
      "source": [
        "def naive_add_matrix_and_vector_2(x, y):\n",
        "    assert len(x.shape) == 4\n",
        "    assert len(y.shape) == 2\n",
        "    assert x.shape[2] == y.shape[0] and x.shape[3] == y.shape[1], 'x.shape[2]와 y.shape[0], x.shape[3]와 y.shape[1]이 같아야합니다.' # 1D tensor에서 shape[0]는 행렬 차원에서는 열 수라고도 볼 수 있음.\n",
        "    x = x.copy()\n",
        "    for i in range(x.shape[0]):\n",
        "        for j in range(x.shape[1]):\n",
        "          for k in range(x.shape[2]):\n",
        "            for h in range(x.shape[3]):\n",
        "              x[i, j, k, h] += y[k, h]\n",
        "    return x"
      ],
      "metadata": {
        "id": "0G112HgeYslc"
      },
      "execution_count": 131,
      "outputs": []
    },
    {
      "cell_type": "code",
      "source": [
        "naive_add_matrix_and_vector_2(x, y)"
      ],
      "metadata": {
        "colab": {
          "base_uri": "https://localhost:8080/"
        },
        "id": "Zk9b-GZKZOtP",
        "outputId": "dc335e2e-7200-470a-ed49-f3fb7627dd5a"
      },
      "execution_count": 132,
      "outputs": [
        {
          "output_type": "execute_result",
          "data": {
            "text/plain": [
              "array([[[[1.16200937, 0.49937678, 0.57944077, ..., 1.14715833,\n",
              "          0.92580529, 0.66688325],\n",
              "         [0.92562538, 0.83773521, 0.95354353, ..., 0.60469339,\n",
              "          0.65453496, 1.20554947],\n",
              "         [1.37703383, 1.73156004, 1.09996898, ..., 1.1279074 ,\n",
              "          1.03055347, 1.0881539 ],\n",
              "         ...,\n",
              "         [0.75714894, 1.00832217, 0.70485406, ..., 0.88839086,\n",
              "          1.30356907, 1.8083937 ],\n",
              "         [1.27925741, 0.78389799, 1.04616229, ..., 0.47839159,\n",
              "          0.31080603, 0.41256183],\n",
              "         [1.09883483, 1.38923792, 1.28265806, ..., 0.93207667,\n",
              "          0.11984518, 0.64719238]],\n",
              "\n",
              "        [[1.22257385, 0.36862516, 1.27961372, ..., 0.82412386,\n",
              "          0.16434427, 0.90442178],\n",
              "         [0.47084262, 1.55224636, 0.40808496, ..., 0.9926557 ,\n",
              "          0.28686111, 1.29136723],\n",
              "         [1.01739265, 1.635464  , 1.22002497, ..., 1.57254927,\n",
              "          0.66832244, 1.5258077 ],\n",
              "         ...,\n",
              "         [0.96583288, 1.47502524, 0.35685937, ..., 0.92970274,\n",
              "          1.11713094, 1.74463413],\n",
              "         [0.80493446, 1.33179887, 0.17824733, ..., 1.28644042,\n",
              "          0.99354795, 1.11804441],\n",
              "         [1.32107085, 0.53712008, 1.20235688, ..., 1.4891494 ,\n",
              "          0.68299567, 0.93480313]],\n",
              "\n",
              "        [[0.89749206, 0.94442971, 1.14244788, ..., 1.72905782,\n",
              "          0.79607042, 0.90932062],\n",
              "         [0.16065317, 1.63566684, 0.87361606, ..., 1.17076146,\n",
              "          0.94635628, 1.25261223],\n",
              "         [1.4476317 , 1.43750283, 0.54089539, ..., 1.67795123,\n",
              "          0.1982216 , 0.63902172],\n",
              "         ...,\n",
              "         [0.37517888, 0.81016079, 0.29446655, ..., 1.00363709,\n",
              "          1.8430197 , 1.82085264],\n",
              "         [0.74892123, 1.28086817, 0.67432894, ..., 0.39507047,\n",
              "          1.18615398, 0.95330843],\n",
              "         [1.62518356, 1.37876076, 0.87493941, ..., 1.65714222,\n",
              "          0.40362317, 0.93339112]]],\n",
              "\n",
              "\n",
              "       [[[0.9163602 , 0.48672203, 0.39673706, ..., 1.24485078,\n",
              "          0.92321888, 0.47641051],\n",
              "         [0.08334717, 1.61635564, 0.6015757 , ..., 0.54467248,\n",
              "          0.66717512, 1.16125276],\n",
              "         [0.89991755, 1.28078169, 1.29097205, ..., 1.053844  ,\n",
              "          0.70100904, 1.44955056],\n",
              "         ...,\n",
              "         [0.5360091 , 1.18345768, 0.74822917, ..., 0.72537628,\n",
              "          1.81490117, 1.53332594],\n",
              "         [1.4429839 , 1.75216078, 0.60012862, ..., 1.20531996,\n",
              "          0.629813  , 0.59945611],\n",
              "         [1.00162997, 0.54518285, 1.19999927, ..., 1.2429469 ,\n",
              "          0.98250787, 0.17592151]],\n",
              "\n",
              "        [[1.23253956, 0.57440728, 1.17055533, ..., 1.77095461,\n",
              "          0.09354048, 1.29925041],\n",
              "         [0.67028993, 1.40940314, 0.92744171, ..., 1.13199944,\n",
              "          0.56380696, 0.64124222],\n",
              "         [1.29816645, 0.9664436 , 0.62313289, ..., 1.47997629,\n",
              "          0.21307727, 1.56244106],\n",
              "         ...,\n",
              "         [0.82650499, 1.32905482, 0.29159422, ..., 0.9717868 ,\n",
              "          0.93633538, 1.24683466],\n",
              "         [1.43561967, 1.70478075, 0.85421212, ..., 0.39502397,\n",
              "          0.46228621, 1.18907771],\n",
              "         [1.42835328, 0.91788199, 0.68509448, ..., 0.90799657,\n",
              "          0.9762519 , 0.45725689]],\n",
              "\n",
              "        [[0.58755942, 0.59969578, 1.07560504, ..., 0.97130049,\n",
              "          0.24131097, 1.15557298],\n",
              "         [0.46684713, 1.0223776 , 0.29734102, ..., 0.40237604,\n",
              "          1.01878424, 0.92490285],\n",
              "         [1.25725907, 1.55745921, 1.01265074, ..., 1.2118703 ,\n",
              "          0.73076584, 1.45987569],\n",
              "         ...,\n",
              "         [0.43646513, 0.89802921, 0.56045501, ..., 1.37369018,\n",
              "          0.93913935, 1.74549388],\n",
              "         [1.54218409, 0.91859389, 0.15740744, ..., 0.92572164,\n",
              "          0.27576589, 0.68663487],\n",
              "         [0.7527599 , 1.01467041, 0.71959123, ..., 1.09886154,\n",
              "          0.87908948, 0.39158049]]],\n",
              "\n",
              "\n",
              "       [[[1.15136944, 0.77182105, 1.28072566, ..., 1.65726625,\n",
              "          0.22131963, 0.85217903],\n",
              "         [0.88171567, 1.37001771, 0.28400458, ..., 1.30667718,\n",
              "          0.83607837, 1.31923897],\n",
              "         [1.17581012, 1.59385444, 0.95042341, ..., 1.02875423,\n",
              "          0.39015785, 1.17142887],\n",
              "         ...,\n",
              "         [1.10167377, 1.26567816, 0.78799756, ..., 1.16007193,\n",
              "          1.72385685, 1.49820823],\n",
              "         [0.95163507, 1.65717785, 0.42343934, ..., 1.06325674,\n",
              "          1.11202401, 0.71410912],\n",
              "         [1.22052192, 0.58025434, 1.14625615, ..., 0.84705805,\n",
              "          1.01583375, 0.51009554]],\n",
              "\n",
              "        [[0.64576149, 0.81925224, 0.76063227, ..., 0.78051953,\n",
              "          1.00558107, 0.85004962],\n",
              "         [0.4079702 , 0.87725257, 0.58982077, ..., 0.91688309,\n",
              "          0.93679732, 1.24384489],\n",
              "         [0.6838024 , 1.01250674, 1.28706378, ..., 0.75447265,\n",
              "          0.11198783, 0.75382442],\n",
              "         ...,\n",
              "         [0.86218946, 1.38562282, 0.97511271, ..., 0.54124722,\n",
              "          1.77385002, 0.98547342],\n",
              "         [0.67905858, 1.18476349, 0.393304  , ..., 0.98456985,\n",
              "          1.0542057 , 0.39309976],\n",
              "         [0.72967845, 0.80116306, 1.16250887, ..., 1.23005183,\n",
              "          0.13409171, 0.82280479]],\n",
              "\n",
              "        [[0.76369123, 1.11779952, 0.73386542, ..., 1.49622012,\n",
              "          0.74722328, 0.44494591],\n",
              "         [0.14363549, 1.16887925, 1.07691678, ..., 1.11529594,\n",
              "          0.45900222, 1.00429715],\n",
              "         [1.37164786, 1.05344643, 0.74850724, ..., 0.71499238,\n",
              "          0.69985934, 1.16587113],\n",
              "         ...,\n",
              "         [0.55460811, 0.98332656, 0.56821071, ..., 0.47359537,\n",
              "          1.53123171, 1.59637599],\n",
              "         [1.30327943, 0.77544937, 0.99828959, ..., 0.85966663,\n",
              "          0.27781343, 1.22553865],\n",
              "         [1.58462221, 0.71900641, 1.39956894, ..., 1.11953419,\n",
              "          0.45813383, 0.11887102]]],\n",
              "\n",
              "\n",
              "       ...,\n",
              "\n",
              "\n",
              "       [[[1.22838432, 1.19303255, 0.85188073, ..., 1.45571809,\n",
              "          0.51461671, 1.28241964],\n",
              "         [0.69953408, 1.11046596, 1.10667393, ..., 0.43627287,\n",
              "          0.08121948, 1.34025136],\n",
              "         [0.80787152, 1.43363924, 0.6562903 , ..., 1.47131844,\n",
              "          0.18357667, 1.26611236],\n",
              "         ...,\n",
              "         [1.16627853, 1.36514476, 0.43901927, ..., 1.36409722,\n",
              "          1.14169619, 1.33857459],\n",
              "         [1.06249134, 0.95385522, 0.52117374, ..., 1.15982689,\n",
              "          0.35106988, 0.69369169],\n",
              "         [1.4150683 , 0.86467482, 0.94296606, ..., 1.56422548,\n",
              "          0.86350709, 1.04252877]],\n",
              "\n",
              "        [[0.47767719, 0.63628816, 0.52312231, ..., 1.10779697,\n",
              "          0.65557363, 1.26321797],\n",
              "         [0.25788301, 0.93901152, 0.78753141, ..., 0.51217098,\n",
              "          0.75223198, 0.78152489],\n",
              "         [1.15653379, 1.88056555, 0.71384013, ..., 1.22241283,\n",
              "          0.27575352, 0.76052058],\n",
              "         ...,\n",
              "         [0.33997067, 1.24533185, 0.4235643 , ..., 0.73715961,\n",
              "          1.10350795, 1.52494998],\n",
              "         [1.24724109, 1.32777303, 0.88366475, ..., 0.65916225,\n",
              "          0.65100477, 0.7193518 ],\n",
              "         [0.82536552, 1.05916778, 0.48207515, ..., 1.76139374,\n",
              "          0.78491479, 0.7930914 ]],\n",
              "\n",
              "        [[0.87547097, 0.4388895 , 0.87012176, ..., 1.45499322,\n",
              "          0.98265999, 0.99446176],\n",
              "         [0.80577572, 0.73605719, 0.50183641, ..., 1.26588427,\n",
              "          0.45814997, 1.3729383 ],\n",
              "         [1.45151762, 1.08002497, 0.4032226 , ..., 1.63803251,\n",
              "          0.30752049, 1.02591853],\n",
              "         ...,\n",
              "         [1.25480474, 0.57885123, 1.21948301, ..., 1.21691137,\n",
              "          1.80213585, 1.36930107],\n",
              "         [0.8416784 , 1.04669304, 0.43984555, ..., 0.91404548,\n",
              "          0.43186167, 0.65295268],\n",
              "         [1.08185039, 0.71228478, 0.84733314, ..., 1.68980127,\n",
              "          0.7181253 , 0.16329928]]],\n",
              "\n",
              "\n",
              "       [[[0.83249841, 0.55735845, 1.126107  , ..., 0.98959268,\n",
              "          0.37022442, 0.94509777],\n",
              "         [0.28434346, 1.03484127, 0.53299308, ..., 0.53953612,\n",
              "          0.73222706, 0.6083604 ],\n",
              "         [0.90672273, 1.42409399, 1.07443928, ..., 1.64243742,\n",
              "          0.79584011, 1.3074295 ],\n",
              "         ...,\n",
              "         [0.82691091, 0.59771329, 0.25425142, ..., 0.65898795,\n",
              "          1.81721768, 1.15088138],\n",
              "         [1.08741463, 1.68116192, 0.73494138, ..., 0.87727316,\n",
              "          0.3189565 , 0.4064009 ],\n",
              "         [0.71949572, 1.38044116, 0.92175874, ..., 1.26981815,\n",
              "          0.21787019, 0.28619317]],\n",
              "\n",
              "        [[0.84346162, 0.77094657, 1.05076761, ..., 1.44608223,\n",
              "          0.12152034, 1.01260438],\n",
              "         [0.74303134, 1.5356139 , 1.19783885, ..., 0.45152008,\n",
              "          1.00020406, 1.19440974],\n",
              "         [0.94444029, 1.00972611, 0.4692414 , ..., 1.19786438,\n",
              "          0.1979179 , 1.16026603],\n",
              "         ...,\n",
              "         [1.22570637, 0.76376428, 1.03916327, ..., 0.87746379,\n",
              "          1.26524774, 1.89532715],\n",
              "         [1.38371614, 1.35401209, 0.33143288, ..., 1.20928569,\n",
              "          0.45022182, 0.94939373],\n",
              "         [0.97766874, 1.16323027, 1.01663041, ..., 1.38798421,\n",
              "          0.2135621 , 0.82650339]],\n",
              "\n",
              "        [[0.91628349, 0.80305567, 1.11076829, ..., 1.45357329,\n",
              "          0.58593317, 1.28024216],\n",
              "         [0.27978118, 0.88982357, 0.3118902 , ..., 0.45129519,\n",
              "          0.62809398, 1.09263028],\n",
              "         [0.68319171, 1.76383568, 0.4088168 , ..., 0.72110478,\n",
              "          0.50531722, 0.77255863],\n",
              "         ...,\n",
              "         [0.41748607, 0.90224524, 0.73905493, ..., 1.07625108,\n",
              "          1.77200891, 1.3256508 ],\n",
              "         [0.99139874, 0.9430943 , 0.88875348, ..., 1.05907096,\n",
              "          1.03433993, 0.7200035 ],\n",
              "         [0.95390067, 0.56602998, 1.47815861, ..., 1.0707355 ,\n",
              "          0.19866879, 1.00654185]]],\n",
              "\n",
              "\n",
              "       [[[1.22245633, 1.06787842, 1.36887518, ..., 1.43204136,\n",
              "          0.32926043, 1.07306659],\n",
              "         [0.37229716, 0.96310301, 1.08749079, ..., 0.54553255,\n",
              "          0.45501833, 1.01847356],\n",
              "         [0.78722675, 1.5078572 , 0.62433987, ..., 0.8255236 ,\n",
              "          0.83968807, 1.33735023],\n",
              "         ...,\n",
              "         [0.89477156, 1.42834124, 0.78697812, ..., 1.23231826,\n",
              "          1.57753998, 1.47688659],\n",
              "         [1.32752421, 1.40807871, 0.7188811 , ..., 0.56648591,\n",
              "          1.20947837, 1.250242  ],\n",
              "         [1.15536667, 0.78854228, 1.38065794, ..., 1.47620157,\n",
              "          0.71853872, 0.66032569]],\n",
              "\n",
              "        [[1.27199463, 0.74939372, 0.50067299, ..., 1.64724166,\n",
              "          0.81086429, 1.32198059],\n",
              "         [0.49580467, 1.42366859, 1.09787549, ..., 0.96484306,\n",
              "          0.31506267, 1.38497265],\n",
              "         [1.39579427, 1.23477307, 0.44493825, ..., 1.27292863,\n",
              "          0.61352249, 0.62461534],\n",
              "         ...,\n",
              "         [0.72209258, 1.36679806, 0.35079672, ..., 0.51913887,\n",
              "          1.04175427, 1.20548708],\n",
              "         [1.40348825, 1.29603647, 0.14472024, ..., 1.03025673,\n",
              "          1.16680683, 0.68943105],\n",
              "         [0.88201562, 0.96438048, 1.33067848, ..., 1.28780621,\n",
              "          0.7805101 , 0.47220333]],\n",
              "\n",
              "        [[0.9342918 , 0.93147641, 1.27840249, ..., 1.42477552,\n",
              "          0.55856385, 0.71609503],\n",
              "         [0.0921397 , 1.1705826 , 0.50056962, ..., 0.46272746,\n",
              "          0.58563771, 1.30763365],\n",
              "         [1.51586557, 1.15273707, 1.2051684 , ..., 1.47587888,\n",
              "          0.64167254, 0.68847682],\n",
              "         ...,\n",
              "         [0.94090175, 0.64514847, 1.1615943 , ..., 0.55624286,\n",
              "          1.00671351, 1.81785493],\n",
              "         [1.49872784, 1.7247716 , 0.90957026, ..., 0.84393033,\n",
              "          1.08303769, 0.45102105],\n",
              "         [1.10902732, 0.72375523, 1.09148309, ..., 0.91661487,\n",
              "          0.61307066, 0.26670581]]]])"
            ]
          },
          "metadata": {},
          "execution_count": 132
        }
      ]
    },
    {
      "cell_type": "code",
      "source": [
        "x+y \n",
        "# 차원의 짝이 맞기 때문에(x.shape = (64, 3, 32, 10), y.shape = (32,10)) \n",
        "#두 텐서 모두 2차원 이상의 텐서임에도 자동으로 브로드캐스팅되어 연산이 수행되었음."
      ],
      "metadata": {
        "id": "K5CwXAKtVLVh",
        "outputId": "42b73d47-c436-4856-da7b-1ecf6eda9a85",
        "colab": {
          "base_uri": "https://localhost:8080/"
        }
      },
      "execution_count": 133,
      "outputs": [
        {
          "output_type": "execute_result",
          "data": {
            "text/plain": [
              "array([[[[1.16200937, 0.49937678, 0.57944077, ..., 1.14715833,\n",
              "          0.92580529, 0.66688325],\n",
              "         [0.92562538, 0.83773521, 0.95354353, ..., 0.60469339,\n",
              "          0.65453496, 1.20554947],\n",
              "         [1.37703383, 1.73156004, 1.09996898, ..., 1.1279074 ,\n",
              "          1.03055347, 1.0881539 ],\n",
              "         ...,\n",
              "         [0.75714894, 1.00832217, 0.70485406, ..., 0.88839086,\n",
              "          1.30356907, 1.8083937 ],\n",
              "         [1.27925741, 0.78389799, 1.04616229, ..., 0.47839159,\n",
              "          0.31080603, 0.41256183],\n",
              "         [1.09883483, 1.38923792, 1.28265806, ..., 0.93207667,\n",
              "          0.11984518, 0.64719238]],\n",
              "\n",
              "        [[1.22257385, 0.36862516, 1.27961372, ..., 0.82412386,\n",
              "          0.16434427, 0.90442178],\n",
              "         [0.47084262, 1.55224636, 0.40808496, ..., 0.9926557 ,\n",
              "          0.28686111, 1.29136723],\n",
              "         [1.01739265, 1.635464  , 1.22002497, ..., 1.57254927,\n",
              "          0.66832244, 1.5258077 ],\n",
              "         ...,\n",
              "         [0.96583288, 1.47502524, 0.35685937, ..., 0.92970274,\n",
              "          1.11713094, 1.74463413],\n",
              "         [0.80493446, 1.33179887, 0.17824733, ..., 1.28644042,\n",
              "          0.99354795, 1.11804441],\n",
              "         [1.32107085, 0.53712008, 1.20235688, ..., 1.4891494 ,\n",
              "          0.68299567, 0.93480313]],\n",
              "\n",
              "        [[0.89749206, 0.94442971, 1.14244788, ..., 1.72905782,\n",
              "          0.79607042, 0.90932062],\n",
              "         [0.16065317, 1.63566684, 0.87361606, ..., 1.17076146,\n",
              "          0.94635628, 1.25261223],\n",
              "         [1.4476317 , 1.43750283, 0.54089539, ..., 1.67795123,\n",
              "          0.1982216 , 0.63902172],\n",
              "         ...,\n",
              "         [0.37517888, 0.81016079, 0.29446655, ..., 1.00363709,\n",
              "          1.8430197 , 1.82085264],\n",
              "         [0.74892123, 1.28086817, 0.67432894, ..., 0.39507047,\n",
              "          1.18615398, 0.95330843],\n",
              "         [1.62518356, 1.37876076, 0.87493941, ..., 1.65714222,\n",
              "          0.40362317, 0.93339112]]],\n",
              "\n",
              "\n",
              "       [[[0.9163602 , 0.48672203, 0.39673706, ..., 1.24485078,\n",
              "          0.92321888, 0.47641051],\n",
              "         [0.08334717, 1.61635564, 0.6015757 , ..., 0.54467248,\n",
              "          0.66717512, 1.16125276],\n",
              "         [0.89991755, 1.28078169, 1.29097205, ..., 1.053844  ,\n",
              "          0.70100904, 1.44955056],\n",
              "         ...,\n",
              "         [0.5360091 , 1.18345768, 0.74822917, ..., 0.72537628,\n",
              "          1.81490117, 1.53332594],\n",
              "         [1.4429839 , 1.75216078, 0.60012862, ..., 1.20531996,\n",
              "          0.629813  , 0.59945611],\n",
              "         [1.00162997, 0.54518285, 1.19999927, ..., 1.2429469 ,\n",
              "          0.98250787, 0.17592151]],\n",
              "\n",
              "        [[1.23253956, 0.57440728, 1.17055533, ..., 1.77095461,\n",
              "          0.09354048, 1.29925041],\n",
              "         [0.67028993, 1.40940314, 0.92744171, ..., 1.13199944,\n",
              "          0.56380696, 0.64124222],\n",
              "         [1.29816645, 0.9664436 , 0.62313289, ..., 1.47997629,\n",
              "          0.21307727, 1.56244106],\n",
              "         ...,\n",
              "         [0.82650499, 1.32905482, 0.29159422, ..., 0.9717868 ,\n",
              "          0.93633538, 1.24683466],\n",
              "         [1.43561967, 1.70478075, 0.85421212, ..., 0.39502397,\n",
              "          0.46228621, 1.18907771],\n",
              "         [1.42835328, 0.91788199, 0.68509448, ..., 0.90799657,\n",
              "          0.9762519 , 0.45725689]],\n",
              "\n",
              "        [[0.58755942, 0.59969578, 1.07560504, ..., 0.97130049,\n",
              "          0.24131097, 1.15557298],\n",
              "         [0.46684713, 1.0223776 , 0.29734102, ..., 0.40237604,\n",
              "          1.01878424, 0.92490285],\n",
              "         [1.25725907, 1.55745921, 1.01265074, ..., 1.2118703 ,\n",
              "          0.73076584, 1.45987569],\n",
              "         ...,\n",
              "         [0.43646513, 0.89802921, 0.56045501, ..., 1.37369018,\n",
              "          0.93913935, 1.74549388],\n",
              "         [1.54218409, 0.91859389, 0.15740744, ..., 0.92572164,\n",
              "          0.27576589, 0.68663487],\n",
              "         [0.7527599 , 1.01467041, 0.71959123, ..., 1.09886154,\n",
              "          0.87908948, 0.39158049]]],\n",
              "\n",
              "\n",
              "       [[[1.15136944, 0.77182105, 1.28072566, ..., 1.65726625,\n",
              "          0.22131963, 0.85217903],\n",
              "         [0.88171567, 1.37001771, 0.28400458, ..., 1.30667718,\n",
              "          0.83607837, 1.31923897],\n",
              "         [1.17581012, 1.59385444, 0.95042341, ..., 1.02875423,\n",
              "          0.39015785, 1.17142887],\n",
              "         ...,\n",
              "         [1.10167377, 1.26567816, 0.78799756, ..., 1.16007193,\n",
              "          1.72385685, 1.49820823],\n",
              "         [0.95163507, 1.65717785, 0.42343934, ..., 1.06325674,\n",
              "          1.11202401, 0.71410912],\n",
              "         [1.22052192, 0.58025434, 1.14625615, ..., 0.84705805,\n",
              "          1.01583375, 0.51009554]],\n",
              "\n",
              "        [[0.64576149, 0.81925224, 0.76063227, ..., 0.78051953,\n",
              "          1.00558107, 0.85004962],\n",
              "         [0.4079702 , 0.87725257, 0.58982077, ..., 0.91688309,\n",
              "          0.93679732, 1.24384489],\n",
              "         [0.6838024 , 1.01250674, 1.28706378, ..., 0.75447265,\n",
              "          0.11198783, 0.75382442],\n",
              "         ...,\n",
              "         [0.86218946, 1.38562282, 0.97511271, ..., 0.54124722,\n",
              "          1.77385002, 0.98547342],\n",
              "         [0.67905858, 1.18476349, 0.393304  , ..., 0.98456985,\n",
              "          1.0542057 , 0.39309976],\n",
              "         [0.72967845, 0.80116306, 1.16250887, ..., 1.23005183,\n",
              "          0.13409171, 0.82280479]],\n",
              "\n",
              "        [[0.76369123, 1.11779952, 0.73386542, ..., 1.49622012,\n",
              "          0.74722328, 0.44494591],\n",
              "         [0.14363549, 1.16887925, 1.07691678, ..., 1.11529594,\n",
              "          0.45900222, 1.00429715],\n",
              "         [1.37164786, 1.05344643, 0.74850724, ..., 0.71499238,\n",
              "          0.69985934, 1.16587113],\n",
              "         ...,\n",
              "         [0.55460811, 0.98332656, 0.56821071, ..., 0.47359537,\n",
              "          1.53123171, 1.59637599],\n",
              "         [1.30327943, 0.77544937, 0.99828959, ..., 0.85966663,\n",
              "          0.27781343, 1.22553865],\n",
              "         [1.58462221, 0.71900641, 1.39956894, ..., 1.11953419,\n",
              "          0.45813383, 0.11887102]]],\n",
              "\n",
              "\n",
              "       ...,\n",
              "\n",
              "\n",
              "       [[[1.22838432, 1.19303255, 0.85188073, ..., 1.45571809,\n",
              "          0.51461671, 1.28241964],\n",
              "         [0.69953408, 1.11046596, 1.10667393, ..., 0.43627287,\n",
              "          0.08121948, 1.34025136],\n",
              "         [0.80787152, 1.43363924, 0.6562903 , ..., 1.47131844,\n",
              "          0.18357667, 1.26611236],\n",
              "         ...,\n",
              "         [1.16627853, 1.36514476, 0.43901927, ..., 1.36409722,\n",
              "          1.14169619, 1.33857459],\n",
              "         [1.06249134, 0.95385522, 0.52117374, ..., 1.15982689,\n",
              "          0.35106988, 0.69369169],\n",
              "         [1.4150683 , 0.86467482, 0.94296606, ..., 1.56422548,\n",
              "          0.86350709, 1.04252877]],\n",
              "\n",
              "        [[0.47767719, 0.63628816, 0.52312231, ..., 1.10779697,\n",
              "          0.65557363, 1.26321797],\n",
              "         [0.25788301, 0.93901152, 0.78753141, ..., 0.51217098,\n",
              "          0.75223198, 0.78152489],\n",
              "         [1.15653379, 1.88056555, 0.71384013, ..., 1.22241283,\n",
              "          0.27575352, 0.76052058],\n",
              "         ...,\n",
              "         [0.33997067, 1.24533185, 0.4235643 , ..., 0.73715961,\n",
              "          1.10350795, 1.52494998],\n",
              "         [1.24724109, 1.32777303, 0.88366475, ..., 0.65916225,\n",
              "          0.65100477, 0.7193518 ],\n",
              "         [0.82536552, 1.05916778, 0.48207515, ..., 1.76139374,\n",
              "          0.78491479, 0.7930914 ]],\n",
              "\n",
              "        [[0.87547097, 0.4388895 , 0.87012176, ..., 1.45499322,\n",
              "          0.98265999, 0.99446176],\n",
              "         [0.80577572, 0.73605719, 0.50183641, ..., 1.26588427,\n",
              "          0.45814997, 1.3729383 ],\n",
              "         [1.45151762, 1.08002497, 0.4032226 , ..., 1.63803251,\n",
              "          0.30752049, 1.02591853],\n",
              "         ...,\n",
              "         [1.25480474, 0.57885123, 1.21948301, ..., 1.21691137,\n",
              "          1.80213585, 1.36930107],\n",
              "         [0.8416784 , 1.04669304, 0.43984555, ..., 0.91404548,\n",
              "          0.43186167, 0.65295268],\n",
              "         [1.08185039, 0.71228478, 0.84733314, ..., 1.68980127,\n",
              "          0.7181253 , 0.16329928]]],\n",
              "\n",
              "\n",
              "       [[[0.83249841, 0.55735845, 1.126107  , ..., 0.98959268,\n",
              "          0.37022442, 0.94509777],\n",
              "         [0.28434346, 1.03484127, 0.53299308, ..., 0.53953612,\n",
              "          0.73222706, 0.6083604 ],\n",
              "         [0.90672273, 1.42409399, 1.07443928, ..., 1.64243742,\n",
              "          0.79584011, 1.3074295 ],\n",
              "         ...,\n",
              "         [0.82691091, 0.59771329, 0.25425142, ..., 0.65898795,\n",
              "          1.81721768, 1.15088138],\n",
              "         [1.08741463, 1.68116192, 0.73494138, ..., 0.87727316,\n",
              "          0.3189565 , 0.4064009 ],\n",
              "         [0.71949572, 1.38044116, 0.92175874, ..., 1.26981815,\n",
              "          0.21787019, 0.28619317]],\n",
              "\n",
              "        [[0.84346162, 0.77094657, 1.05076761, ..., 1.44608223,\n",
              "          0.12152034, 1.01260438],\n",
              "         [0.74303134, 1.5356139 , 1.19783885, ..., 0.45152008,\n",
              "          1.00020406, 1.19440974],\n",
              "         [0.94444029, 1.00972611, 0.4692414 , ..., 1.19786438,\n",
              "          0.1979179 , 1.16026603],\n",
              "         ...,\n",
              "         [1.22570637, 0.76376428, 1.03916327, ..., 0.87746379,\n",
              "          1.26524774, 1.89532715],\n",
              "         [1.38371614, 1.35401209, 0.33143288, ..., 1.20928569,\n",
              "          0.45022182, 0.94939373],\n",
              "         [0.97766874, 1.16323027, 1.01663041, ..., 1.38798421,\n",
              "          0.2135621 , 0.82650339]],\n",
              "\n",
              "        [[0.91628349, 0.80305567, 1.11076829, ..., 1.45357329,\n",
              "          0.58593317, 1.28024216],\n",
              "         [0.27978118, 0.88982357, 0.3118902 , ..., 0.45129519,\n",
              "          0.62809398, 1.09263028],\n",
              "         [0.68319171, 1.76383568, 0.4088168 , ..., 0.72110478,\n",
              "          0.50531722, 0.77255863],\n",
              "         ...,\n",
              "         [0.41748607, 0.90224524, 0.73905493, ..., 1.07625108,\n",
              "          1.77200891, 1.3256508 ],\n",
              "         [0.99139874, 0.9430943 , 0.88875348, ..., 1.05907096,\n",
              "          1.03433993, 0.7200035 ],\n",
              "         [0.95390067, 0.56602998, 1.47815861, ..., 1.0707355 ,\n",
              "          0.19866879, 1.00654185]]],\n",
              "\n",
              "\n",
              "       [[[1.22245633, 1.06787842, 1.36887518, ..., 1.43204136,\n",
              "          0.32926043, 1.07306659],\n",
              "         [0.37229716, 0.96310301, 1.08749079, ..., 0.54553255,\n",
              "          0.45501833, 1.01847356],\n",
              "         [0.78722675, 1.5078572 , 0.62433987, ..., 0.8255236 ,\n",
              "          0.83968807, 1.33735023],\n",
              "         ...,\n",
              "         [0.89477156, 1.42834124, 0.78697812, ..., 1.23231826,\n",
              "          1.57753998, 1.47688659],\n",
              "         [1.32752421, 1.40807871, 0.7188811 , ..., 0.56648591,\n",
              "          1.20947837, 1.250242  ],\n",
              "         [1.15536667, 0.78854228, 1.38065794, ..., 1.47620157,\n",
              "          0.71853872, 0.66032569]],\n",
              "\n",
              "        [[1.27199463, 0.74939372, 0.50067299, ..., 1.64724166,\n",
              "          0.81086429, 1.32198059],\n",
              "         [0.49580467, 1.42366859, 1.09787549, ..., 0.96484306,\n",
              "          0.31506267, 1.38497265],\n",
              "         [1.39579427, 1.23477307, 0.44493825, ..., 1.27292863,\n",
              "          0.61352249, 0.62461534],\n",
              "         ...,\n",
              "         [0.72209258, 1.36679806, 0.35079672, ..., 0.51913887,\n",
              "          1.04175427, 1.20548708],\n",
              "         [1.40348825, 1.29603647, 0.14472024, ..., 1.03025673,\n",
              "          1.16680683, 0.68943105],\n",
              "         [0.88201562, 0.96438048, 1.33067848, ..., 1.28780621,\n",
              "          0.7805101 , 0.47220333]],\n",
              "\n",
              "        [[0.9342918 , 0.93147641, 1.27840249, ..., 1.42477552,\n",
              "          0.55856385, 0.71609503],\n",
              "         [0.0921397 , 1.1705826 , 0.50056962, ..., 0.46272746,\n",
              "          0.58563771, 1.30763365],\n",
              "         [1.51586557, 1.15273707, 1.2051684 , ..., 1.47587888,\n",
              "          0.64167254, 0.68847682],\n",
              "         ...,\n",
              "         [0.94090175, 0.64514847, 1.1615943 , ..., 0.55624286,\n",
              "          1.00671351, 1.81785493],\n",
              "         [1.49872784, 1.7247716 , 0.90957026, ..., 0.84393033,\n",
              "          1.08303769, 0.45102105],\n",
              "         [1.10902732, 0.72375523, 1.09148309, ..., 0.91661487,\n",
              "          0.61307066, 0.26670581]]]])"
            ]
          },
          "metadata": {},
          "execution_count": 133
        }
      ]
    },
    {
      "cell_type": "markdown",
      "metadata": {
        "id": "KndwOufAPXUj"
      },
      "source": [
        "### Tensor product"
      ]
    },
    {
      "cell_type": "code",
      "execution_count": 140,
      "metadata": {
        "id": "X_pmlFgfPXUj"
      },
      "outputs": [],
      "source": [
        "x = np.random.random((32,))\n",
        "y = np.random.random((32,))\n",
        "z = np.dot(x, y)"
      ]
    },
    {
      "cell_type": "code",
      "execution_count": 144,
      "metadata": {
        "id": "UGoyIq-bPXUj"
      },
      "outputs": [],
      "source": [
        "def naive_vector_dot(x, y):\n",
        "    assert len(x.shape) == 1\n",
        "    assert len(y.shape) == 1\n",
        "    assert x.shape[0] == y.shape[0]\n",
        "    z = 0.\n",
        "    for i in range(x.shape[0]):\n",
        "        z += x[i] * y[i]\n",
        "    return z"
      ]
    },
    {
      "cell_type": "code",
      "execution_count": 145,
      "metadata": {
        "id": "gfd2simuPXUk"
      },
      "outputs": [],
      "source": [
        "def naive_matrix_vector_dot(x, y):\n",
        "    assert len(x.shape) == 2\n",
        "    assert len(y.shape) == 1\n",
        "    assert x.shape[1] == y.shape[0]\n",
        "    z = np.zeros(x.shape[0])\n",
        "    for i in range(x.shape[0]):\n",
        "        for j in range(x.shape[1]):\n",
        "            z[i] += x[i, j] * y[j]\n",
        "    return z"
      ]
    },
    {
      "cell_type": "code",
      "execution_count": 146,
      "metadata": {
        "id": "Pg7L1BlPPXUk"
      },
      "outputs": [],
      "source": [
        "def naive_matrix_vector_dot(x, y):\n",
        "    z = np.zeros(x.shape[0])\n",
        "    for i in range(x.shape[0]):\n",
        "        z[i] = naive_vector_dot(x[i, :], y)\n",
        "    return z"
      ]
    },
    {
      "cell_type": "code",
      "execution_count": 147,
      "metadata": {
        "id": "TseIoG-OPXUl"
      },
      "outputs": [],
      "source": [
        "def naive_matrix_dot(x, y):\n",
        "    assert len(x.shape) == 2\n",
        "    assert len(y.shape) == 2\n",
        "    assert x.shape[1] == y.shape[0]\n",
        "    z = np.zeros((x.shape[0], y.shape[1]))\n",
        "    for i in range(x.shape[0]):\n",
        "        for j in range(y.shape[1]):\n",
        "            row_x = x[i, :]\n",
        "            column_y = y[:, j]\n",
        "            z[i, j] = naive_vector_dot(row_x, column_y)\n",
        "    return z"
      ]
    },
    {
      "cell_type": "markdown",
      "metadata": {
        "id": "ohJwudSxPXUm"
      },
      "source": [
        "### Tensor reshaping"
      ]
    },
    {
      "cell_type": "code",
      "execution_count": 134,
      "metadata": {
        "id": "zC5Sbor3PXUm"
      },
      "outputs": [],
      "source": [
        "train_images = train_images.reshape((60000, 28 * 28))"
      ]
    },
    {
      "cell_type": "code",
      "source": [
        "train_images.shape"
      ],
      "metadata": {
        "id": "tCGzJu-0a6-t",
        "outputId": "bf1bfe71-3423-4177-89f1-34ff254b8c09",
        "colab": {
          "base_uri": "https://localhost:8080/"
        }
      },
      "execution_count": 135,
      "outputs": [
        {
          "output_type": "execute_result",
          "data": {
            "text/plain": [
              "(60000, 784)"
            ]
          },
          "metadata": {},
          "execution_count": 135
        }
      ]
    },
    {
      "cell_type": "code",
      "execution_count": 136,
      "metadata": {
        "id": "aNiCLIBzPXUm",
        "outputId": "ce23ffa8-efbb-495e-c7bf-2e7ff408a3c6",
        "colab": {
          "base_uri": "https://localhost:8080/"
        }
      },
      "outputs": [
        {
          "output_type": "execute_result",
          "data": {
            "text/plain": [
              "(3, 2)"
            ]
          },
          "metadata": {},
          "execution_count": 136
        }
      ],
      "source": [
        "x = np.array([[0., 1.],\n",
        "             [2., 3.],\n",
        "             [4., 5.]])\n",
        "x.shape"
      ]
    },
    {
      "cell_type": "code",
      "execution_count": 138,
      "metadata": {
        "id": "-6jm5Ha-PXUn",
        "outputId": "e41dbf45-460c-4ee7-be7e-bb4d5376a24e",
        "colab": {
          "base_uri": "https://localhost:8080/"
        }
      },
      "outputs": [
        {
          "output_type": "execute_result",
          "data": {
            "text/plain": [
              "array([[0.],\n",
              "       [1.],\n",
              "       [2.],\n",
              "       [3.],\n",
              "       [4.],\n",
              "       [5.]])"
            ]
          },
          "metadata": {},
          "execution_count": 138
        }
      ],
      "source": [
        "x = x.reshape((6, 1))\n",
        "x"
      ]
    },
    {
      "cell_type": "code",
      "execution_count": 139,
      "metadata": {
        "id": "4Xm_iCNLPXUn",
        "colab": {
          "base_uri": "https://localhost:8080/"
        },
        "outputId": "f41c5b33-f337-4f30-fadd-ee9bb17d9ff3"
      },
      "outputs": [
        {
          "output_type": "execute_result",
          "data": {
            "text/plain": [
              "(20, 300)"
            ]
          },
          "metadata": {},
          "execution_count": 139
        }
      ],
      "source": [
        "x = np.zeros((300, 20))\n",
        "x = np.transpose(x)\n",
        "x.shape"
      ]
    },
    {
      "cell_type": "markdown",
      "metadata": {
        "id": "0B0wV7oePXUo"
      },
      "source": [
        "### Geometric interpretation of tensor operations"
      ]
    },
    {
      "cell_type": "markdown",
      "metadata": {
        "id": "dTnvSw4TPXUo"
      },
      "source": [
        "### A geometric interpretation of deep learning"
      ]
    },
    {
      "cell_type": "markdown",
      "metadata": {
        "id": "2jGAHewXPXUp"
      },
      "source": [
        "## The engine of neural networks: gradient-based optimization"
      ]
    },
    {
      "cell_type": "markdown",
      "metadata": {
        "id": "Q35g3C9FPXUp"
      },
      "source": [
        "### What's a derivative?"
      ]
    },
    {
      "cell_type": "markdown",
      "metadata": {
        "id": "3w5lMqFZPXUp"
      },
      "source": [
        "### Derivative of a tensor operation: the gradient"
      ]
    },
    {
      "cell_type": "markdown",
      "metadata": {
        "id": "wp7wdwGRPXUq"
      },
      "source": [
        "### Stochastic gradient descent"
      ]
    },
    {
      "cell_type": "markdown",
      "metadata": {
        "id": "Wpl33OscPXUq"
      },
      "source": [
        "### Chaining derivatives: The Backpropagation algorithm"
      ]
    },
    {
      "cell_type": "markdown",
      "metadata": {
        "id": "st1zdFXCPXUq"
      },
      "source": [
        "#### The chain rule"
      ]
    },
    {
      "cell_type": "markdown",
      "metadata": {
        "id": "tpDw2j9wPXUr"
      },
      "source": [
        "#### Automatic differentiation with computation graphs"
      ]
    },
    {
      "cell_type": "markdown",
      "metadata": {
        "id": "OV9okTxxPXUr"
      },
      "source": [
        "#### The gradient tape in TensorFlow"
      ]
    },
    {
      "cell_type": "code",
      "execution_count": 5,
      "metadata": {
        "id": "RTU8zGucPXUr"
      },
      "outputs": [],
      "source": [
        "import tensorflow as tf\n",
        "x = tf.Variable(0.)\n",
        "with tf.GradientTape() as tape:\n",
        "    y = 2 * x + 3\n",
        "grad_of_y_wrt_x = tape.gradient(y, x)"
      ]
    },
    {
      "cell_type": "code",
      "source": [
        "grad_of_y_wrt_x"
      ],
      "metadata": {
        "id": "B0yCGMbakO35",
        "outputId": "f62f844a-8de8-4f2c-e5e7-0d5121687f2a",
        "colab": {
          "base_uri": "https://localhost:8080/"
        }
      },
      "execution_count": 6,
      "outputs": [
        {
          "output_type": "execute_result",
          "data": {
            "text/plain": [
              "<tf.Tensor: shape=(), dtype=float32, numpy=2.0>"
            ]
          },
          "metadata": {},
          "execution_count": 6
        }
      ]
    },
    {
      "cell_type": "code",
      "source": [
        "tf.random.uniform((2, 2))"
      ],
      "metadata": {
        "colab": {
          "base_uri": "https://localhost:8080/"
        },
        "id": "3D_W0L0O6Bad",
        "outputId": "397f6961-3016-445e-9f72-bb1e4001d76f"
      },
      "execution_count": 13,
      "outputs": [
        {
          "output_type": "execute_result",
          "data": {
            "text/plain": [
              "<tf.Tensor: shape=(2, 2), dtype=float32, numpy=\n",
              "array([[0.03876293, 0.53462875],\n",
              "       [0.74965584, 0.95429087]], dtype=float32)>"
            ]
          },
          "metadata": {},
          "execution_count": 13
        }
      ]
    },
    {
      "cell_type": "code",
      "execution_count": 9,
      "metadata": {
        "id": "EcrDMbVBPXUs"
      },
      "outputs": [],
      "source": [
        "x = tf.Variable(tf.random.uniform((2, 2)))\n",
        "with tf.GradientTape() as tape:\n",
        "    y = 2 * x + 3\n",
        "grad_of_y_wrt_x = tape.gradient(y, x)"
      ]
    },
    {
      "cell_type": "code",
      "execution_count": 16,
      "metadata": {
        "id": "I3gt5f23PXUs"
      },
      "outputs": [],
      "source": [
        "W = tf.Variable(tf.random.uniform((2, 2)))\n",
        "b = tf.Variable(tf.zeros((2,)))\n",
        "x = tf.random.uniform((2, 2))\n",
        "with tf.GradientTape() as tape:\n",
        "    y = tf.matmul(x, W) + b\n",
        "grad_of_y_wrt_W_and_b = tape.gradient(y, [W, b])"
      ]
    },
    {
      "cell_type": "code",
      "source": [
        "grad_of_y_wrt_W_and_b"
      ],
      "metadata": {
        "id": "zncD5yuflJMd",
        "outputId": "e6480345-d3f8-4c13-e470-10e5b2fa8546",
        "colab": {
          "base_uri": "https://localhost:8080/"
        }
      },
      "execution_count": 17,
      "outputs": [
        {
          "output_type": "execute_result",
          "data": {
            "text/plain": [
              "[<tf.Tensor: shape=(2, 2), dtype=float32, numpy=\n",
              " array([[1.2381828, 1.2381828],\n",
              "        [0.5674467, 0.5674467]], dtype=float32)>,\n",
              " <tf.Tensor: shape=(2,), dtype=float32, numpy=array([2., 2.], dtype=float32)>]"
            ]
          },
          "metadata": {},
          "execution_count": 17
        }
      ]
    },
    {
      "cell_type": "markdown",
      "metadata": {
        "id": "NULTFenwPXUt"
      },
      "source": [
        "## Looking back at our first example"
      ]
    },
    {
      "cell_type": "code",
      "source": [
        "from tensorflow.keras.datasets import mnist"
      ],
      "metadata": {
        "id": "a63ONCl9oGD-"
      },
      "execution_count": 18,
      "outputs": []
    },
    {
      "cell_type": "code",
      "execution_count": 19,
      "metadata": {
        "id": "cwHnmlTtPXUt",
        "colab": {
          "base_uri": "https://localhost:8080/"
        },
        "outputId": "601b0c77-b9ae-4461-cf7e-4648b909b0a6"
      },
      "outputs": [
        {
          "output_type": "stream",
          "name": "stdout",
          "text": [
            "Downloading data from https://storage.googleapis.com/tensorflow/tf-keras-datasets/mnist.npz\n",
            "11493376/11490434 [==============================] - 0s 0us/step\n",
            "11501568/11490434 [==============================] - 0s 0us/step\n"
          ]
        }
      ],
      "source": [
        "(train_images, train_labels), (test_images, test_labels) = mnist.load_data()\n",
        "train_images = train_images.reshape((60000, 28 * 28))\n",
        "train_images = train_images.astype(\"float32\") / 255\n",
        "test_images = test_images.reshape((10000, 28 * 28))\n",
        "test_images = test_images.astype(\"float32\") / 255"
      ]
    },
    {
      "cell_type": "code",
      "execution_count": 20,
      "metadata": {
        "id": "fWAYoTwFPXUt"
      },
      "outputs": [],
      "source": [
        "from tensorflow import keras\n",
        "from tensorflow.keras import layers\n",
        "model = keras.Sequential([\n",
        "    layers.Dense(512, activation=\"relu\"),\n",
        "    layers.Dense(10, activation=\"softmax\")\n",
        "])"
      ]
    },
    {
      "cell_type": "code",
      "execution_count": 21,
      "metadata": {
        "id": "2fbF-rJfPXUu"
      },
      "outputs": [],
      "source": [
        "model.compile(optimizer=\"SGD\",\n",
        "              loss=\"sparse_categorical_crossentropy\",\n",
        "              metrics=[\"accuracy\"])"
      ]
    },
    {
      "cell_type": "code",
      "execution_count": 22,
      "metadata": {
        "id": "v_JQalMvPXUu",
        "outputId": "93a40688-91bc-4d72-c299-44b35ed67098",
        "colab": {
          "base_uri": "https://localhost:8080/"
        }
      },
      "outputs": [
        {
          "output_type": "stream",
          "name": "stdout",
          "text": [
            "Epoch 1/5\n",
            "469/469 [==============================] - 2s 3ms/step - loss: 1.1018 - accuracy: 0.7504\n",
            "Epoch 2/5\n",
            "469/469 [==============================] - 1s 2ms/step - loss: 0.5226 - accuracy: 0.8729\n",
            "Epoch 3/5\n",
            "469/469 [==============================] - 1s 3ms/step - loss: 0.4189 - accuracy: 0.8910\n",
            "Epoch 4/5\n",
            "469/469 [==============================] - 1s 3ms/step - loss: 0.3721 - accuracy: 0.9003\n",
            "Epoch 5/5\n",
            "469/469 [==============================] - 1s 2ms/step - loss: 0.3439 - accuracy: 0.9065\n"
          ]
        },
        {
          "output_type": "execute_result",
          "data": {
            "text/plain": [
              "<keras.callbacks.History at 0x7f7dd0187dd0>"
            ]
          },
          "metadata": {},
          "execution_count": 22
        }
      ],
      "source": [
        "model.fit(train_images, train_labels, epochs=5, batch_size=128)"
      ]
    },
    {
      "cell_type": "code",
      "source": [
        "60000/128"
      ],
      "metadata": {
        "id": "UpvQeUJ7pHvj",
        "outputId": "f6e4e12f-5907-4d47-f951-f61b559f4879",
        "colab": {
          "base_uri": "https://localhost:8080/"
        }
      },
      "execution_count": 23,
      "outputs": [
        {
          "output_type": "execute_result",
          "data": {
            "text/plain": [
              "468.75"
            ]
          },
          "metadata": {},
          "execution_count": 23
        }
      ]
    },
    {
      "cell_type": "markdown",
      "metadata": {
        "id": "whYi_Ku_PXUv"
      },
      "source": [
        "### Reimplementing our first example from scratch in TensorFlow"
      ]
    },
    {
      "cell_type": "markdown",
      "metadata": {
        "id": "f2Q8V9QbPXUv"
      },
      "source": [
        "#### A simple Dense class"
      ]
    },
    {
      "cell_type": "code",
      "execution_count": null,
      "metadata": {
        "id": "QUNtFHQ-PXUv"
      },
      "outputs": [],
      "source": [
        "import tensorflow as tf\n",
        "\n",
        "class NaiveDense:\n",
        "    def __init__(self, input_size, output_size, activation):\n",
        "        self.activation = activation\n",
        "\n",
        "        w_shape = (input_size, output_size)\n",
        "        w_initial_value = tf.random.uniform(w_shape, minval=0, maxval=1e-1)\n",
        "        self.W = tf.Variable(w_initial_value)\n",
        "\n",
        "        b_shape = (output_size,)\n",
        "        b_initial_value = tf.zeros(b_shape)\n",
        "        self.b = tf.Variable(b_initial_value)\n",
        "\n",
        "    def __call__(self, inputs):\n",
        "        return self.activation(tf.matmul(inputs, self.W) + self.b)\n",
        "\n",
        "    @property\n",
        "    def weights(self):\n",
        "        return [self.W, self.b]"
      ]
    },
    {
      "cell_type": "markdown",
      "metadata": {
        "id": "FEg7XAiTPXUw"
      },
      "source": [
        "#### A simple Sequential class"
      ]
    },
    {
      "cell_type": "code",
      "execution_count": null,
      "metadata": {
        "id": "QMPDrHYUPXUw"
      },
      "outputs": [],
      "source": [
        "class NaiveSequential:\n",
        "    def __init__(self, layers):\n",
        "        self.layers = layers\n",
        "\n",
        "    def __call__(self, inputs):\n",
        "        x = inputs\n",
        "        for layer in self.layers:\n",
        "           x = layer(x)\n",
        "        return x\n",
        "\n",
        "    @property\n",
        "    def weights(self):\n",
        "       weights = []\n",
        "       for layer in self.layers:\n",
        "           weights += layer.weights\n",
        "       return weights"
      ]
    },
    {
      "cell_type": "code",
      "execution_count": null,
      "metadata": {
        "id": "k-Gi5NPlPXUx"
      },
      "outputs": [],
      "source": [
        "model = NaiveSequential([\n",
        "    NaiveDense(input_size=28 * 28, output_size=512, activation=tf.nn.relu),\n",
        "    NaiveDense(input_size=512, output_size=10, activation=tf.nn.softmax)\n",
        "])\n",
        "assert len(model.weights) == 4"
      ]
    },
    {
      "cell_type": "markdown",
      "metadata": {
        "id": "oVdnr9l6PXUx"
      },
      "source": [
        "#### A batch generator"
      ]
    },
    {
      "cell_type": "code",
      "execution_count": null,
      "metadata": {
        "id": "91zkefFVPXUy"
      },
      "outputs": [],
      "source": [
        "import math\n",
        "\n",
        "class BatchGenerator:\n",
        "    def __init__(self, images, labels, batch_size=128):\n",
        "        assert len(images) == len(labels)\n",
        "        self.index = 0\n",
        "        self.images = images\n",
        "        self.labels = labels\n",
        "        self.batch_size = batch_size\n",
        "        self.num_batches = math.ceil(len(images) / batch_size)\n",
        "\n",
        "    def next(self):\n",
        "        images = self.images[self.index : self.index + self.batch_size]\n",
        "        labels = self.labels[self.index : self.index + self.batch_size]\n",
        "        self.index += self.batch_size\n",
        "        return images, labels"
      ]
    },
    {
      "cell_type": "markdown",
      "metadata": {
        "id": "FK-Et9vAPXUy"
      },
      "source": [
        "### Running one training step"
      ]
    },
    {
      "cell_type": "code",
      "execution_count": null,
      "metadata": {
        "id": "qsTCiTF4PXUz"
      },
      "outputs": [],
      "source": [
        "def one_training_step(model, images_batch, labels_batch):\n",
        "    with tf.GradientTape() as tape:\n",
        "        predictions = model(images_batch)\n",
        "        per_sample_losses = tf.keras.losses.sparse_categorical_crossentropy(\n",
        "            labels_batch, predictions)\n",
        "        average_loss = tf.reduce_mean(per_sample_losses)\n",
        "    gradients = tape.gradient(average_loss, model.weights)\n",
        "    update_weights(gradients, model.weights)\n",
        "    return average_loss"
      ]
    },
    {
      "cell_type": "code",
      "execution_count": null,
      "metadata": {
        "id": "F4SO1STxPXUz"
      },
      "outputs": [],
      "source": [
        "learning_rate = 1e-3\n",
        "\n",
        "def update_weights(gradients, weights):\n",
        "    for g, w in zip(gradients, weights):\n",
        "        w.assign_sub(g * learning_rate)"
      ]
    },
    {
      "cell_type": "code",
      "execution_count": null,
      "metadata": {
        "id": "3uCwgBF2PXU0"
      },
      "outputs": [],
      "source": [
        "from tensorflow.keras import optimizers\n",
        "\n",
        "optimizer = optimizers.SGD(learning_rate=1e-3)\n",
        "\n",
        "def update_weights(gradients, weights):\n",
        "    optimizer.apply_gradients(zip(gradients, weights))"
      ]
    },
    {
      "cell_type": "markdown",
      "metadata": {
        "id": "Z9uwXQmCPXU0"
      },
      "source": [
        "### The full training loop"
      ]
    },
    {
      "cell_type": "code",
      "execution_count": null,
      "metadata": {
        "id": "GPxVWHTzPXU1"
      },
      "outputs": [],
      "source": [
        "def fit(model, images, labels, epochs, batch_size=128):\n",
        "    for epoch_counter in range(epochs):\n",
        "        print(f\"Epoch {epoch_counter}\")\n",
        "        batch_generator = BatchGenerator(images, labels)\n",
        "        for batch_counter in range(batch_generator.num_batches):\n",
        "            images_batch, labels_batch = batch_generator.next()\n",
        "            loss = one_training_step(model, images_batch, labels_batch)\n",
        "            if batch_counter % 100 == 0:\n",
        "                print(f\"loss at batch {batch_counter}: {loss:.2f}\")"
      ]
    },
    {
      "cell_type": "code",
      "execution_count": null,
      "metadata": {
        "id": "vSxE-78iPXU1",
        "outputId": "bdd625bf-fefe-45d7-af95-5531225aeb86",
        "colab": {
          "base_uri": "https://localhost:8080/"
        }
      },
      "outputs": [
        {
          "output_type": "stream",
          "name": "stdout",
          "text": [
            "Epoch 0\n",
            "loss at batch 0: 5.11\n",
            "loss at batch 100: 2.23\n",
            "loss at batch 200: 2.18\n",
            "loss at batch 300: 2.06\n",
            "loss at batch 400: 2.20\n",
            "Epoch 1\n",
            "loss at batch 0: 1.89\n",
            "loss at batch 100: 1.87\n",
            "loss at batch 200: 1.81\n",
            "loss at batch 300: 1.68\n",
            "loss at batch 400: 1.82\n",
            "Epoch 2\n",
            "loss at batch 0: 1.57\n",
            "loss at batch 100: 1.58\n",
            "loss at batch 200: 1.49\n",
            "loss at batch 300: 1.41\n",
            "loss at batch 400: 1.50\n",
            "Epoch 3\n",
            "loss at batch 0: 1.31\n",
            "loss at batch 100: 1.34\n",
            "loss at batch 200: 1.23\n",
            "loss at batch 300: 1.20\n",
            "loss at batch 400: 1.27\n",
            "Epoch 4\n",
            "loss at batch 0: 1.12\n",
            "loss at batch 100: 1.16\n",
            "loss at batch 200: 1.03\n",
            "loss at batch 300: 1.04\n",
            "loss at batch 400: 1.11\n",
            "Epoch 5\n",
            "loss at batch 0: 0.97\n",
            "loss at batch 100: 1.02\n",
            "loss at batch 200: 0.89\n",
            "loss at batch 300: 0.92\n",
            "loss at batch 400: 0.99\n",
            "Epoch 6\n",
            "loss at batch 0: 0.87\n",
            "loss at batch 100: 0.91\n",
            "loss at batch 200: 0.79\n",
            "loss at batch 300: 0.83\n",
            "loss at batch 400: 0.90\n",
            "Epoch 7\n",
            "loss at batch 0: 0.78\n",
            "loss at batch 100: 0.83\n",
            "loss at batch 200: 0.71\n",
            "loss at batch 300: 0.76\n",
            "loss at batch 400: 0.83\n",
            "Epoch 8\n",
            "loss at batch 0: 0.72\n",
            "loss at batch 100: 0.76\n",
            "loss at batch 200: 0.65\n",
            "loss at batch 300: 0.71\n",
            "loss at batch 400: 0.78\n",
            "Epoch 9\n",
            "loss at batch 0: 0.67\n",
            "loss at batch 100: 0.70\n",
            "loss at batch 200: 0.60\n",
            "loss at batch 300: 0.66\n",
            "loss at batch 400: 0.73\n"
          ]
        }
      ],
      "source": [
        "from tensorflow.keras.datasets import mnist\n",
        "(train_images, train_labels), (test_images, test_labels) = mnist.load_data()\n",
        "\n",
        "train_images = train_images.reshape((60000, 28 * 28))\n",
        "train_images = train_images.astype(\"float32\") / 255\n",
        "test_images = test_images.reshape((10000, 28 * 28))\n",
        "test_images = test_images.astype(\"float32\") / 255\n",
        "\n",
        "fit(model, train_images, train_labels, epochs=10, batch_size=128)"
      ]
    },
    {
      "cell_type": "markdown",
      "metadata": {
        "id": "9_ZuoBSoPXU2"
      },
      "source": [
        "### Evaluating the model"
      ]
    },
    {
      "cell_type": "code",
      "source": [
        "import numpy as np"
      ],
      "metadata": {
        "id": "1o56XAYm-d7v"
      },
      "execution_count": null,
      "outputs": []
    },
    {
      "cell_type": "code",
      "execution_count": null,
      "metadata": {
        "id": "feOr7PTXPXU2",
        "outputId": "acdc2028-8fbb-45c7-c7a0-75fe58ce677e",
        "colab": {
          "base_uri": "https://localhost:8080/"
        }
      },
      "outputs": [
        {
          "output_type": "stream",
          "name": "stdout",
          "text": [
            "accuracy: 0.82\n"
          ]
        }
      ],
      "source": [
        "predictions = model(test_images)\n",
        "predictions = predictions.numpy()\n",
        "predicted_labels = np.argmax(predictions, axis=1)\n",
        "matches = predicted_labels == test_labels\n",
        "print(f\"accuracy: {matches.mean():.2f}\")\n",
        "# accuracy가 낮은 이유: BatchGenerator에 shuffled indices가 제공되지 않아서..."
      ]
    },
    {
      "cell_type": "markdown",
      "metadata": {
        "id": "2_LUDsR_PXU3"
      },
      "source": [
        "## Summary"
      ]
    }
  ],
  "metadata": {
    "colab": {
      "collapsed_sections": [],
      "name": "chapter02_mathematical-building-blocks.i",
      "provenance": [],
      "toc_visible": true
    },
    "kernelspec": {
      "display_name": "Python 3",
      "language": "python",
      "name": "python3"
    },
    "language_info": {
      "codemirror_mode": {
        "name": "ipython",
        "version": 3
      },
      "file_extension": ".py",
      "mimetype": "text/x-python",
      "name": "python",
      "nbconvert_exporter": "python",
      "pygments_lexer": "ipython3",
      "version": "3.7.0"
    },
    "accelerator": "GPU"
  },
  "nbformat": 4,
  "nbformat_minor": 0
}