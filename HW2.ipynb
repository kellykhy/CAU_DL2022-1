{
  "nbformat": 4,
  "nbformat_minor": 0,
  "metadata": {
    "colab": {
      "name": "HW2.ipynb",
      "provenance": [],
      "collapsed_sections": [],
      "include_colab_link": true
    },
    "kernelspec": {
      "name": "python3",
      "display_name": "Python 3"
    },
    "language_info": {
      "name": "python"
    },
    "accelerator": "GPU"
  },
  "cells": [
    {
      "cell_type": "markdown",
      "metadata": {
        "id": "view-in-github",
        "colab_type": "text"
      },
      "source": [
        "<a href=\"https://colab.research.google.com/github/kellykhy/DL2022-1/blob/main/HW2.ipynb\" target=\"_parent\"><img src=\"https://colab.research.google.com/assets/colab-badge.svg\" alt=\"Open In Colab\"/></a>"
      ]
    },
    {
      "cell_type": "markdown",
      "source": [
        "## HW 2\n",
        "Answer following questions \n",
        "\n"
      ],
      "metadata": {
        "id": "OwBySVVU5h6M"
      }
    },
    {
      "cell_type": "code",
      "execution_count": null,
      "metadata": {
        "id": "aZSgHuiR5W1k"
      },
      "outputs": [],
      "source": [
        ""
      ]
    },
    {
      "cell_type": "markdown",
      "source": [
        "### Below is one of the example code for binary-class classification problem on IMDB dataset"
      ],
      "metadata": {
        "id": "qEqK8L1k6PSd"
      }
    },
    {
      "cell_type": "code",
      "source": [
        "from tensorflow.keras.datasets import imdb\n",
        "(train_data, train_labels), (test_data, test_labels) = imdb.load_data(\n",
        "    num_words=10000)"
      ],
      "metadata": {
        "id": "WKvVq8pQ6YNt",
        "outputId": "4d415d05-6f18-427d-f0e7-d77ae67e34b7",
        "colab": {
          "base_uri": "https://localhost:8080/"
        }
      },
      "execution_count": 1,
      "outputs": [
        {
          "output_type": "stream",
          "name": "stdout",
          "text": [
            "Downloading data from https://storage.googleapis.com/tensorflow/tf-keras-datasets/imdb.npz\n",
            "17465344/17464789 [==============================] - 0s 0us/step\n",
            "17473536/17464789 [==============================] - 0s 0us/step\n"
          ]
        }
      ]
    },
    {
      "cell_type": "code",
      "source": [
        "import numpy as np\n",
        "def vectorize_sequences(sequences, dimension=10000):\n",
        "    results = np.zeros((len(sequences), dimension))\n",
        "    for i, sequence in enumerate(sequences):\n",
        "        for j in sequence:\n",
        "            results[i, j] = 1.\n",
        "    return results\n",
        "x_train = vectorize_sequences(train_data)\n",
        "x_test = vectorize_sequences(test_data)"
      ],
      "metadata": {
        "id": "IFml1LhPXCsk"
      },
      "execution_count": 2,
      "outputs": []
    },
    {
      "cell_type": "code",
      "source": [
        "y_train = np.asarray(train_labels).astype(\"float32\")\n",
        "y_test = np.asarray(test_labels).astype(\"float32\")"
      ],
      "metadata": {
        "id": "FCxmgWVYXHoD"
      },
      "execution_count": 3,
      "outputs": []
    },
    {
      "cell_type": "code",
      "source": [
        "y_train[:5]"
      ],
      "metadata": {
        "colab": {
          "base_uri": "https://localhost:8080/"
        },
        "id": "RMI28KpIXVYE",
        "outputId": "b43f9dc7-07c3-4f35-f7d8-c25857d97b25"
      },
      "execution_count": 4,
      "outputs": [
        {
          "output_type": "execute_result",
          "data": {
            "text/plain": [
              "array([1., 0., 0., 1., 0.], dtype=float32)"
            ]
          },
          "metadata": {},
          "execution_count": 4
        }
      ]
    },
    {
      "cell_type": "code",
      "source": [
        "from tensorflow import keras\n",
        "from tensorflow.keras import layers\n",
        "\n",
        "model = keras.Sequential([\n",
        "    layers.Dense(16, activation=\"relu\"),\n",
        "    layers.Dense(16, activation=\"relu\"),\n",
        "    layers.Dense(1, activation=\"sigmoid\")\n",
        "])"
      ],
      "metadata": {
        "id": "xgDMHxOVXKRE"
      },
      "execution_count": 5,
      "outputs": []
    },
    {
      "cell_type": "code",
      "source": [
        "model.compile(optimizer=\"rmsprop\",\n",
        "              loss=\"binary_crossentropy\",\n",
        "              metrics=[\"accuracy\"])"
      ],
      "metadata": {
        "id": "tT4KACL9XdNE"
      },
      "execution_count": 6,
      "outputs": []
    },
    {
      "cell_type": "code",
      "source": [
        "x_val = x_train[:10000]\n",
        "partial_x_train = x_train[10000:]\n",
        "y_val = y_train[:10000]\n",
        "partial_y_train = y_train[10000:]"
      ],
      "metadata": {
        "id": "k-Ufwj3iXc8l"
      },
      "execution_count": 7,
      "outputs": []
    },
    {
      "cell_type": "code",
      "source": [
        "history = model.fit(partial_x_train,\n",
        "                    partial_y_train,\n",
        "                    epochs=20,\n",
        "                    batch_size=512,\n",
        "                    validation_data=(x_val, y_val))"
      ],
      "metadata": {
        "id": "5kJLbfX3Xp_U",
        "colab": {
          "base_uri": "https://localhost:8080/"
        },
        "outputId": "d490536d-3fbc-4ed3-ba31-be67aab650f0"
      },
      "execution_count": 8,
      "outputs": [
        {
          "output_type": "stream",
          "name": "stdout",
          "text": [
            "Epoch 1/20\n",
            "30/30 [==============================] - 3s 69ms/step - loss: 0.5265 - accuracy: 0.7881 - val_loss: 0.4008 - val_accuracy: 0.8626\n",
            "Epoch 2/20\n",
            "30/30 [==============================] - 1s 50ms/step - loss: 0.3195 - accuracy: 0.9027 - val_loss: 0.3137 - val_accuracy: 0.8849\n",
            "Epoch 3/20\n",
            "30/30 [==============================] - 1s 39ms/step - loss: 0.2332 - accuracy: 0.9277 - val_loss: 0.2847 - val_accuracy: 0.8874\n",
            "Epoch 4/20\n",
            "30/30 [==============================] - 1s 36ms/step - loss: 0.1816 - accuracy: 0.9439 - val_loss: 0.2739 - val_accuracy: 0.8900\n",
            "Epoch 5/20\n",
            "30/30 [==============================] - 1s 35ms/step - loss: 0.1482 - accuracy: 0.9540 - val_loss: 0.2767 - val_accuracy: 0.8886\n",
            "Epoch 6/20\n",
            "30/30 [==============================] - 1s 45ms/step - loss: 0.1231 - accuracy: 0.9621 - val_loss: 0.2917 - val_accuracy: 0.8844\n",
            "Epoch 7/20\n",
            "30/30 [==============================] - 1s 47ms/step - loss: 0.1009 - accuracy: 0.9709 - val_loss: 0.3380 - val_accuracy: 0.8763\n",
            "Epoch 8/20\n",
            "30/30 [==============================] - 1s 46ms/step - loss: 0.0869 - accuracy: 0.9749 - val_loss: 0.3209 - val_accuracy: 0.8816\n",
            "Epoch 9/20\n",
            "30/30 [==============================] - 1s 46ms/step - loss: 0.0705 - accuracy: 0.9805 - val_loss: 0.3433 - val_accuracy: 0.8781\n",
            "Epoch 10/20\n",
            "30/30 [==============================] - 1s 46ms/step - loss: 0.0593 - accuracy: 0.9853 - val_loss: 0.3719 - val_accuracy: 0.8735\n",
            "Epoch 11/20\n",
            "30/30 [==============================] - 1s 46ms/step - loss: 0.0461 - accuracy: 0.9897 - val_loss: 0.3924 - val_accuracy: 0.8770\n",
            "Epoch 12/20\n",
            "30/30 [==============================] - 1s 37ms/step - loss: 0.0384 - accuracy: 0.9919 - val_loss: 0.4277 - val_accuracy: 0.8767\n",
            "Epoch 13/20\n",
            "30/30 [==============================] - 1s 35ms/step - loss: 0.0342 - accuracy: 0.9920 - val_loss: 0.4512 - val_accuracy: 0.8717\n",
            "Epoch 14/20\n",
            "30/30 [==============================] - 1s 36ms/step - loss: 0.0260 - accuracy: 0.9949 - val_loss: 0.5069 - val_accuracy: 0.8634\n",
            "Epoch 15/20\n",
            "30/30 [==============================] - 1s 35ms/step - loss: 0.0175 - accuracy: 0.9982 - val_loss: 0.5191 - val_accuracy: 0.8654\n",
            "Epoch 16/20\n",
            "30/30 [==============================] - 1s 38ms/step - loss: 0.0173 - accuracy: 0.9980 - val_loss: 0.5491 - val_accuracy: 0.8694\n",
            "Epoch 17/20\n",
            "30/30 [==============================] - 1s 46ms/step - loss: 0.0122 - accuracy: 0.9990 - val_loss: 0.5810 - val_accuracy: 0.8674\n",
            "Epoch 18/20\n",
            "30/30 [==============================] - 1s 46ms/step - loss: 0.0113 - accuracy: 0.9984 - val_loss: 0.6150 - val_accuracy: 0.8675\n",
            "Epoch 19/20\n",
            "30/30 [==============================] - 1s 37ms/step - loss: 0.0060 - accuracy: 0.9997 - val_loss: 0.6543 - val_accuracy: 0.8661\n",
            "Epoch 20/20\n",
            "30/30 [==============================] - 1s 45ms/step - loss: 0.0071 - accuracy: 0.9990 - val_loss: 0.6903 - val_accuracy: 0.8661\n"
          ]
        }
      ]
    },
    {
      "cell_type": "markdown",
      "source": [
        "### Q1 Binary classification is multi-class classification with two classes so we can modify our model as below:"
      ],
      "metadata": {
        "id": "AFsXMZmW6e6F"
      }
    },
    {
      "cell_type": "code",
      "source": [
        "model2 = keras.Sequential([\n",
        "    layers.Dense(16, activation=\"relu\"),\n",
        "    layers.Dense(16, activation=\"relu\"),\n",
        "    layers.Dense(2, activation=\"softmax\")\n",
        "])"
      ],
      "metadata": {
        "id": "mXXKBxo36kPl"
      },
      "execution_count": 9,
      "outputs": []
    },
    {
      "cell_type": "markdown",
      "source": [
        "### Complete the codes for compile and model fitting. "
      ],
      "metadata": {
        "id": "PsOrD_13YWn1"
      }
    },
    {
      "cell_type": "code",
      "source": [
        "model2.compile(optimizer=\"rmsprop\",\n",
        "              loss=\"categorical_crossentropy\",\n",
        "              metrics=[\"accuracy\"])"
      ],
      "metadata": {
        "id": "Hj4AauQvYT7F"
      },
      "execution_count": 10,
      "outputs": []
    },
    {
      "cell_type": "code",
      "source": [
        "from tensorflow.keras.utils import to_categorical\n",
        "y_train = to_categorical(train_labels)\n",
        "y_test = to_categorical(test_labels)"
      ],
      "metadata": {
        "id": "28ScBMpR7k8R"
      },
      "execution_count": 11,
      "outputs": []
    },
    {
      "cell_type": "code",
      "source": [
        "x_val = x_train[:10000]\n",
        "partial_x_train = x_train[10000:]\n",
        "y_val = y_train[:10000]\n",
        "partial_y_train = y_train[10000:]"
      ],
      "metadata": {
        "id": "q-r1TIDG-A24"
      },
      "execution_count": 12,
      "outputs": []
    },
    {
      "cell_type": "code",
      "source": [
        "history = model2.fit(partial_x_train,\n",
        "           partial_y_train,\n",
        "           epochs=20,\n",
        "           batch_size=512,\n",
        "           validation_data=(x_val, y_val))"
      ],
      "metadata": {
        "colab": {
          "base_uri": "https://localhost:8080/"
        },
        "id": "xMVuJF0v8mmg",
        "outputId": "55947fb2-8e8c-49e0-8b4c-a294f17b3b50"
      },
      "execution_count": 13,
      "outputs": [
        {
          "output_type": "stream",
          "name": "stdout",
          "text": [
            "Epoch 1/20\n",
            "30/30 [==============================] - 3s 74ms/step - loss: 0.4966 - accuracy: 0.7852 - val_loss: 0.3635 - val_accuracy: 0.8715\n",
            "Epoch 2/20\n",
            "30/30 [==============================] - 1s 46ms/step - loss: 0.2869 - accuracy: 0.9041 - val_loss: 0.2933 - val_accuracy: 0.8907\n",
            "Epoch 3/20\n",
            "30/30 [==============================] - 1s 46ms/step - loss: 0.2070 - accuracy: 0.9321 - val_loss: 0.2797 - val_accuracy: 0.8883\n",
            "Epoch 4/20\n",
            "30/30 [==============================] - 1s 37ms/step - loss: 0.1674 - accuracy: 0.9428 - val_loss: 0.2766 - val_accuracy: 0.8898\n",
            "Epoch 5/20\n",
            "30/30 [==============================] - 1s 38ms/step - loss: 0.1330 - accuracy: 0.9568 - val_loss: 0.3498 - val_accuracy: 0.8654\n",
            "Epoch 6/20\n",
            "30/30 [==============================] - 1s 42ms/step - loss: 0.1094 - accuracy: 0.9667 - val_loss: 0.3138 - val_accuracy: 0.8864\n",
            "Epoch 7/20\n",
            "30/30 [==============================] - 1s 36ms/step - loss: 0.0874 - accuracy: 0.9751 - val_loss: 0.3229 - val_accuracy: 0.8827\n",
            "Epoch 8/20\n",
            "30/30 [==============================] - 1s 34ms/step - loss: 0.0731 - accuracy: 0.9792 - val_loss: 0.3475 - val_accuracy: 0.8803\n",
            "Epoch 9/20\n",
            "30/30 [==============================] - 1s 40ms/step - loss: 0.0581 - accuracy: 0.9841 - val_loss: 0.3746 - val_accuracy: 0.8775\n",
            "Epoch 10/20\n",
            "30/30 [==============================] - 1s 46ms/step - loss: 0.0456 - accuracy: 0.9882 - val_loss: 0.4070 - val_accuracy: 0.8762\n",
            "Epoch 11/20\n",
            "30/30 [==============================] - 1s 45ms/step - loss: 0.0398 - accuracy: 0.9893 - val_loss: 0.4400 - val_accuracy: 0.8742\n",
            "Epoch 12/20\n",
            "30/30 [==============================] - 2s 56ms/step - loss: 0.0314 - accuracy: 0.9920 - val_loss: 0.4665 - val_accuracy: 0.8767\n",
            "Epoch 13/20\n",
            "30/30 [==============================] - 1s 44ms/step - loss: 0.0170 - accuracy: 0.9981 - val_loss: 0.5037 - val_accuracy: 0.8710\n",
            "Epoch 14/20\n",
            "30/30 [==============================] - 1s 35ms/step - loss: 0.0202 - accuracy: 0.9956 - val_loss: 0.5349 - val_accuracy: 0.8706\n",
            "Epoch 15/20\n",
            "30/30 [==============================] - 1s 36ms/step - loss: 0.0126 - accuracy: 0.9983 - val_loss: 0.5713 - val_accuracy: 0.8718\n",
            "Epoch 16/20\n",
            "30/30 [==============================] - 1s 35ms/step - loss: 0.0160 - accuracy: 0.9958 - val_loss: 0.6091 - val_accuracy: 0.8692\n",
            "Epoch 17/20\n",
            "30/30 [==============================] - 1s 35ms/step - loss: 0.0048 - accuracy: 0.9997 - val_loss: 0.6506 - val_accuracy: 0.8660\n",
            "Epoch 18/20\n",
            "30/30 [==============================] - 1s 35ms/step - loss: 0.0105 - accuracy: 0.9968 - val_loss: 0.6687 - val_accuracy: 0.8682\n",
            "Epoch 19/20\n",
            "30/30 [==============================] - 1s 40ms/step - loss: 0.0026 - accuracy: 0.9999 - val_loss: 0.6985 - val_accuracy: 0.8678\n",
            "Epoch 20/20\n",
            "30/30 [==============================] - 1s 40ms/step - loss: 0.0101 - accuracy: 0.9973 - val_loss: 0.7357 - val_accuracy: 0.8681\n"
          ]
        }
      ]
    },
    {
      "cell_type": "markdown",
      "source": [
        "### Q2 Below is visualization of the validation loss. We can see overfitting after 5 epochs.  "
      ],
      "metadata": {
        "id": "6SGxXX70Ylr_"
      }
    },
    {
      "cell_type": "code",
      "source": [
        "import matplotlib.pyplot as plt\n",
        "history_dict = history.history\n",
        "loss_values = history_dict[\"loss\"]\n",
        "val_loss_values = history_dict[\"val_loss\"]\n",
        "epochs = range(1, len(loss_values) + 1)\n",
        "plt.plot(epochs, loss_values, \"bo\", label=\"Training loss\")\n",
        "plt.plot(epochs, val_loss_values, \"b\", label=\"Validation loss\")\n",
        "plt.title(\"Training and validation loss\")\n",
        "plt.xlabel(\"Epochs\")\n",
        "plt.ylabel(\"Loss\")\n",
        "plt.legend()\n",
        "plt.show()"
      ],
      "metadata": {
        "colab": {
          "base_uri": "https://localhost:8080/",
          "height": 295
        },
        "id": "X8rcODQ7Yk_E",
        "outputId": "18d30f9f-4aa2-42a6-a82c-4cba01f584ae"
      },
      "execution_count": 14,
      "outputs": [
        {
          "output_type": "display_data",
          "data": {
            "text/plain": [
              "<Figure size 432x288 with 1 Axes>"
            ],
            "image/png": "[encoded data removed]"
          },
          "metadata": {
            "needs_background": "light"
          }
        }
      ]
    },
    {
      "cell_type": "markdown",
      "source": [
        "### Add dropout layers and visualize the validation loss of your new model."
      ],
      "metadata": {
        "id": "4LbAGmB-aD-d"
      }
    },
    {
      "cell_type": "code",
      "source": [
        "## Add dropout layers \n",
        "\n",
        "model2_dr = keras.Sequential([\n",
        "    layers.Dense(16, activation=\"relu\"),\n",
        "    layers.Dropout(0.5),\n",
        "    layers.Dense(16, activation=\"relu\"),\n",
        "    layers.Dropout(0.5),\n",
        "    layers.Dense(2, activation=\"softmax\")\n",
        "])\n",
        "\n",
        "## retrain and visualize the validation loss of new model\n",
        "model2_dr.compile(optimizer=\"rmsprop\",\n",
        "              loss=\"categorical_crossentropy\",\n",
        "              metrics=[\"accuracy\"])\n",
        "history2_dr = model2_dr.fit(partial_x_train,\n",
        "               partial_y_train,\n",
        "               epochs=20,\n",
        "               batch_size=512,\n",
        "               validation_data=(x_val, y_val))"
      ],
      "metadata": {
        "id": "uY9QQxR1Z013",
        "colab": {
          "base_uri": "https://localhost:8080/"
        },
        "outputId": "0693dd79-5c88-4326-9099-6907ecf1753f"
      },
      "execution_count": 15,
      "outputs": [
        {
          "output_type": "stream",
          "name": "stdout",
          "text": [
            "Epoch 1/20\n",
            "30/30 [==============================] - 2s 59ms/step - loss: 0.6132 - accuracy: 0.6589 - val_loss: 0.4741 - val_accuracy: 0.8510\n",
            "Epoch 2/20\n",
            "30/30 [==============================] - 1s 43ms/step - loss: 0.4807 - accuracy: 0.7891 - val_loss: 0.3741 - val_accuracy: 0.8777\n",
            "Epoch 3/20\n",
            "30/30 [==============================] - 1s 37ms/step - loss: 0.3968 - accuracy: 0.8421 - val_loss: 0.3402 - val_accuracy: 0.8619\n",
            "Epoch 4/20\n",
            "30/30 [==============================] - 1s 36ms/step - loss: 0.3348 - accuracy: 0.8804 - val_loss: 0.2923 - val_accuracy: 0.8818\n",
            "Epoch 5/20\n",
            "30/30 [==============================] - 1s 36ms/step - loss: 0.2813 - accuracy: 0.9037 - val_loss: 0.2802 - val_accuracy: 0.8870\n",
            "Epoch 6/20\n",
            "30/30 [==============================] - 1s 46ms/step - loss: 0.2454 - accuracy: 0.9169 - val_loss: 0.2763 - val_accuracy: 0.8930\n",
            "Epoch 7/20\n",
            "30/30 [==============================] - 1s 36ms/step - loss: 0.2061 - accuracy: 0.9332 - val_loss: 0.3000 - val_accuracy: 0.8849\n",
            "Epoch 8/20\n",
            "30/30 [==============================] - 2s 53ms/step - loss: 0.1826 - accuracy: 0.9417 - val_loss: 0.3032 - val_accuracy: 0.8919\n",
            "Epoch 9/20\n",
            "30/30 [==============================] - 1s 45ms/step - loss: 0.1617 - accuracy: 0.9478 - val_loss: 0.3027 - val_accuracy: 0.8894\n",
            "Epoch 10/20\n",
            "30/30 [==============================] - 1s 47ms/step - loss: 0.1424 - accuracy: 0.9547 - val_loss: 0.3561 - val_accuracy: 0.8813\n",
            "Epoch 11/20\n",
            "30/30 [==============================] - 2s 54ms/step - loss: 0.1249 - accuracy: 0.9582 - val_loss: 0.3732 - val_accuracy: 0.8852\n",
            "Epoch 12/20\n",
            "30/30 [==============================] - 1s 43ms/step - loss: 0.1122 - accuracy: 0.9630 - val_loss: 0.4018 - val_accuracy: 0.8848\n",
            "Epoch 13/20\n",
            "30/30 [==============================] - 1s 43ms/step - loss: 0.1090 - accuracy: 0.9641 - val_loss: 0.4410 - val_accuracy: 0.8859\n",
            "Epoch 14/20\n",
            "30/30 [==============================] - 1s 46ms/step - loss: 0.0942 - accuracy: 0.9682 - val_loss: 0.4624 - val_accuracy: 0.8838\n",
            "Epoch 15/20\n",
            "30/30 [==============================] - 1s 42ms/step - loss: 0.0914 - accuracy: 0.9704 - val_loss: 0.4745 - val_accuracy: 0.8844\n",
            "Epoch 16/20\n",
            "30/30 [==============================] - 1s 36ms/step - loss: 0.0845 - accuracy: 0.9739 - val_loss: 0.5051 - val_accuracy: 0.8810\n",
            "Epoch 17/20\n",
            "30/30 [==============================] - 1s 42ms/step - loss: 0.0806 - accuracy: 0.9767 - val_loss: 0.5647 - val_accuracy: 0.8816\n",
            "Epoch 18/20\n",
            "30/30 [==============================] - 1s 46ms/step - loss: 0.0785 - accuracy: 0.9769 - val_loss: 0.5642 - val_accuracy: 0.8815\n",
            "Epoch 19/20\n",
            "30/30 [==============================] - 1s 37ms/step - loss: 0.0722 - accuracy: 0.9785 - val_loss: 0.5844 - val_accuracy: 0.8806\n",
            "Epoch 20/20\n",
            "30/30 [==============================] - 1s 36ms/step - loss: 0.0745 - accuracy: 0.9791 - val_loss: 0.6425 - val_accuracy: 0.8799\n"
          ]
        }
      ]
    },
    {
      "cell_type": "code",
      "source": [
        "import matplotlib.pyplot as plt\n",
        "history2_dr_dict = history2_dr.history\n",
        "loss_values = history2_dr_dict[\"loss\"]\n",
        "val_loss_values = history2_dr_dict[\"val_loss\"]\n",
        "epochs = range(1, len(loss_values) + 1)\n",
        "plt.plot(epochs, loss_values, \"bo\", label=\"Training loss\")\n",
        "plt.plot(epochs, val_loss_values, \"b\", label=\"Validation loss\")\n",
        "plt.title(\"Training and validation loss\")\n",
        "plt.xlabel(\"Epochs\")\n",
        "plt.ylabel(\"Loss\")\n",
        "plt.legend()\n",
        "plt.show()"
      ],
      "metadata": {
        "colab": {
          "base_uri": "https://localhost:8080/",
          "height": 295
        },
        "id": "NCfoDg-bBwVF",
        "outputId": "b5b6f5d8-6a2a-407c-c38a-df9f14b88451"
      },
      "execution_count": 16,
      "outputs": [
        {
          "output_type": "display_data",
          "data": {
            "text/plain": [
              "<Figure size 432x288 with 1 Axes>"
            ],
            "image/png": "[encoded data removed]"
          },
          "metadata": {
            "needs_background": "light"
          }
        }
      ]
    },
    {
      "cell_type": "markdown",
      "source": [
        "### Q3 Add l1 regularization on the second dense layer from the original model below. "
      ],
      "metadata": {
        "id": "Xs7jKhJKahhM"
      }
    },
    {
      "cell_type": "code",
      "source": [
        "## Add l1 regularization on the second dense layers \n",
        "from tensorflow import keras\n",
        "from tensorflow.keras import layers\n",
        "from tensorflow.keras import regularizers\n",
        "model2_l1 = keras.Sequential([\n",
        "    layers.Dense(16, activation=\"relu\"),\n",
        "    layers.Dense(16, kernel_regularizer = regularizers.l1(0.001), activation=\"relu\"),    ### add l1 regularization here\n",
        "    layers.Dense(2, activation=\"softmax\")\n",
        "])"
      ],
      "metadata": {
        "id": "VeuwleNJa9r9"
      },
      "execution_count": 17,
      "outputs": []
    },
    {
      "cell_type": "markdown",
      "source": [
        "### Finish the training and compare the dropout model(model from Q2) and l1 regularization model after visualizing their validation losses."
      ],
      "metadata": {
        "id": "e9yx1WLrbJUd"
      }
    },
    {
      "cell_type": "code",
      "source": [
        "model2_l1.compile(optimizer=\"rmsprop\",\n",
        "              loss=\"categorical_crossentropy\",\n",
        "              metrics=[\"accuracy\"])\n",
        "history2_l1 = model2_l1.fit(partial_x_train,\n",
        "                    partial_y_train,\n",
        "                    epochs=20,\n",
        "                    batch_size=512,\n",
        "                    validation_data=(x_val, y_val))"
      ],
      "metadata": {
        "id": "EyL_jfmNbWe_",
        "colab": {
          "base_uri": "https://localhost:8080/"
        },
        "outputId": "88ce39c4-52e2-498f-daaa-8e0e58dc37b9"
      },
      "execution_count": 18,
      "outputs": [
        {
          "output_type": "stream",
          "name": "stdout",
          "text": [
            "Epoch 1/20\n",
            "30/30 [==============================] - 2s 51ms/step - loss: 0.5677 - accuracy: 0.7849 - val_loss: 0.4339 - val_accuracy: 0.8739\n",
            "Epoch 2/20\n",
            "30/30 [==============================] - 1s 36ms/step - loss: 0.3504 - accuracy: 0.9031 - val_loss: 0.3464 - val_accuracy: 0.8895\n",
            "Epoch 3/20\n",
            "30/30 [==============================] - 1s 36ms/step - loss: 0.2673 - accuracy: 0.9257 - val_loss: 0.3218 - val_accuracy: 0.8905\n",
            "Epoch 4/20\n",
            "30/30 [==============================] - 1s 43ms/step - loss: 0.2169 - accuracy: 0.9430 - val_loss: 0.3189 - val_accuracy: 0.8879\n",
            "Epoch 5/20\n",
            "30/30 [==============================] - 1s 40ms/step - loss: 0.1787 - accuracy: 0.9566 - val_loss: 0.3235 - val_accuracy: 0.8897\n",
            "Epoch 6/20\n",
            "30/30 [==============================] - 1s 41ms/step - loss: 0.1541 - accuracy: 0.9631 - val_loss: 0.3952 - val_accuracy: 0.8701\n",
            "Epoch 7/20\n",
            "30/30 [==============================] - 1s 42ms/step - loss: 0.1314 - accuracy: 0.9719 - val_loss: 0.3585 - val_accuracy: 0.8806\n",
            "Epoch 8/20\n",
            "30/30 [==============================] - 1s 44ms/step - loss: 0.1145 - accuracy: 0.9765 - val_loss: 0.3740 - val_accuracy: 0.8820\n",
            "Epoch 9/20\n",
            "30/30 [==============================] - 2s 57ms/step - loss: 0.0997 - accuracy: 0.9823 - val_loss: 0.3915 - val_accuracy: 0.8775\n",
            "Epoch 10/20\n",
            "30/30 [==============================] - 1s 38ms/step - loss: 0.0864 - accuracy: 0.9863 - val_loss: 0.4171 - val_accuracy: 0.8755\n",
            "Epoch 11/20\n",
            "30/30 [==============================] - 1s 46ms/step - loss: 0.0761 - accuracy: 0.9909 - val_loss: 0.4575 - val_accuracy: 0.8754\n",
            "Epoch 12/20\n",
            "30/30 [==============================] - 1s 46ms/step - loss: 0.0684 - accuracy: 0.9921 - val_loss: 0.4774 - val_accuracy: 0.8765\n",
            "Epoch 13/20\n",
            "30/30 [==============================] - 1s 39ms/step - loss: 0.0585 - accuracy: 0.9953 - val_loss: 0.5279 - val_accuracy: 0.8700\n",
            "Epoch 14/20\n",
            "30/30 [==============================] - 1s 44ms/step - loss: 0.0573 - accuracy: 0.9933 - val_loss: 0.5313 - val_accuracy: 0.8716\n",
            "Epoch 15/20\n",
            "30/30 [==============================] - 1s 46ms/step - loss: 0.0508 - accuracy: 0.9961 - val_loss: 0.5535 - val_accuracy: 0.8692\n",
            "Epoch 16/20\n",
            "30/30 [==============================] - 1s 36ms/step - loss: 0.0440 - accuracy: 0.9980 - val_loss: 0.5912 - val_accuracy: 0.8635\n",
            "Epoch 17/20\n",
            "30/30 [==============================] - 1s 35ms/step - loss: 0.0423 - accuracy: 0.9985 - val_loss: 0.6079 - val_accuracy: 0.8691\n",
            "Epoch 18/20\n",
            "30/30 [==============================] - 1s 41ms/step - loss: 0.0400 - accuracy: 0.9987 - val_loss: 0.6286 - val_accuracy: 0.8686\n",
            "Epoch 19/20\n",
            "30/30 [==============================] - 1s 47ms/step - loss: 0.0351 - accuracy: 0.9998 - val_loss: 0.7976 - val_accuracy: 0.8514\n",
            "Epoch 20/20\n",
            "30/30 [==============================] - 1s 45ms/step - loss: 0.0356 - accuracy: 0.9996 - val_loss: 0.6755 - val_accuracy: 0.8658\n"
          ]
        }
      ]
    },
    {
      "cell_type": "code",
      "source": [
        "import matplotlib.pyplot as plt\n",
        "history2_l1_dict = history2_l1.history\n",
        "loss_values = history2_l1_dict[\"loss\"]\n",
        "val_loss_values = history2_l1_dict[\"val_loss\"]\n",
        "epochs = range(1, len(loss_values) + 1)\n",
        "plt.plot(epochs, loss_values, \"bo\", label=\"Training loss\")\n",
        "plt.plot(epochs, val_loss_values, \"b\", label=\"Validation loss\")\n",
        "plt.title(\"Training and validation loss\")\n",
        "plt.xlabel(\"Epochs\")\n",
        "plt.ylabel(\"Loss\")\n",
        "plt.legend()\n",
        "plt.show()"
      ],
      "metadata": {
        "id": "diT4BNqPDPgN",
        "outputId": "212b99ae-989c-4a6e-d8ce-0f8148162dce",
        "colab": {
          "base_uri": "https://localhost:8080/",
          "height": 295
        }
      },
      "execution_count": 19,
      "outputs": [
        {
          "output_type": "display_data",
          "data": {
            "text/plain": [
              "<Figure size 432x288 with 1 Axes>"
            ],
            "image/png": "[encoded data removed]"
          },
          "metadata": {
            "needs_background": "light"
          }
        }
      ]
    },
    {
      "cell_type": "code",
      "source": [
        ""
      ],
      "metadata": {
        "id": "odWffI34VMTZ"
      },
      "execution_count": 19,
      "outputs": []
    }
  ]
}