{
  "nbformat": 4,
  "nbformat_minor": 0,
  "metadata": {
    "accelerator": "GPU",
    "colab": {
      "name": "Team Quiz.ipynb",
      "provenance": [],
      "collapsed_sections": [],
      "include_colab_link": true
    },
    "kernelspec": {
      "display_name": "Python 3",
      "language": "python",
      "name": "python3"
    },
    "language_info": {
      "codemirror_mode": {
        "name": "ipython",
        "version": 3
      },
      "file_extension": ".py",
      "mimetype": "text/x-python",
      "name": "python",
      "nbconvert_exporter": "python",
      "pygments_lexer": "ipython3",
      "version": "3.6.8"
    }
  },
  "cells": [
    {
      "cell_type": "markdown",
      "metadata": {
        "id": "view-in-github",
        "colab_type": "text"
      },
      "source": [
        "<a href=\"https://colab.research.google.com/github/kellykhy/DL2022-1/blob/main/Team_Quiz.ipynb\" target=\"_parent\"><img src=\"https://colab.research.google.com/assets/colab-badge.svg\" alt=\"Open In Colab\"/></a>"
      ]
    },
    {
      "cell_type": "markdown",
      "metadata": {
        "id": "ZPi3ACwumNQV"
      },
      "source": [
        "# final-term team quiz on AI for Deep Learning\n",
        "\n",
        "- Name:  \n",
        "- ID Number: \n",
        "\n",
        "------------------------------------------\n",
        "Firstly, copy this notebook to your google drive.  \n",
        "Secondly, click 'Runtime' tab, 'Change runtime type' tab, and change 'Hardware accelerator' as 'GPU.'  \n",
        "Now you are ready to go, good luck! :) \n"
      ]
    },
    {
      "cell_type": "code",
      "metadata": {
        "colab": {
          "base_uri": "https://localhost:8080/",
          "height": 35
        },
        "id": "-6p6VRmTmAPZ",
        "outputId": "d0a40bfb-dca7-48f2-d752-a0f880d6b026"
      },
      "source": [
        "import tensorflow as tf\n",
        "tf.keras.__version__"
      ],
      "execution_count": 1,
      "outputs": [
        {
          "output_type": "execute_result",
          "data": {
            "text/plain": [
              "'2.8.0'"
            ],
            "application/vnd.google.colaboratory.intrinsic+json": {
              "type": "string"
            }
          },
          "metadata": {},
          "execution_count": 1
        }
      ]
    },
    {
      "cell_type": "code",
      "source": [
        "from tensorflow import keras"
      ],
      "metadata": {
        "id": "dXJ-8qWVxFlH"
      },
      "execution_count": 2,
      "outputs": []
    },
    {
      "cell_type": "markdown",
      "metadata": {
        "id": "APqepHCVmnbd"
      },
      "source": [
        "## Q1 Use Mnist data\n"
      ]
    },
    {
      "cell_type": "code",
      "source": [
        "from tensorflow.keras.datasets import mnist\n",
        "from tensorflow.keras.utils import to_categorical\n",
        "\n",
        "(x_train, y_train), (x_test, y_test) = mnist.load_data()\n",
        "x_train, x_test = x_train / 255.0, x_test / 255.0\n",
        "\n",
        "# Add a channels dimension\n",
        "x_train = x_train[..., tf.newaxis].astype(\"float32\")\n",
        "x_test = x_test[..., tf.newaxis].astype(\"float32\")\n",
        "\n",
        "train_labels = to_categorical(y_train)\n",
        "test_labels = to_categorical(y_test)"
      ],
      "metadata": {
        "colab": {
          "base_uri": "https://localhost:8080/"
        },
        "id": "DFFjqf6MjsnY",
        "outputId": "eb503853-a54c-4546-e1ac-9079d71cc382"
      },
      "execution_count": 3,
      "outputs": [
        {
          "output_type": "stream",
          "name": "stdout",
          "text": [
            "Downloading data from https://storage.googleapis.com/tensorflow/tf-keras-datasets/mnist.npz\n",
            "11493376/11490434 [==============================] - 0s 0us/step\n",
            "11501568/11490434 [==============================] - 0s 0us/step\n"
          ]
        }
      ]
    },
    {
      "cell_type": "markdown",
      "source": [
        "(Q1-1) [20] Create a CNN model with the structure shown in the figure below. \n",
        "\n",
        "![image.png](data:image/png;base64,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)\n",
        "\n",
        "- Set filter size of Convolution layers as 16, 32, and 32.\n",
        "- Set kernel size of Convolution layer as (3,3), use zero padding, and use stride as 1 for all convolution layers. \n",
        "- Use 'relu' activation for all convolution layers. \n",
        "- Use 2 by 2 Maxpooling with stride 2.\n",
        "- Set the number of filters in the dense layer after the flatten layer as 50, and use the 'relu' function for activation.\n"
      ],
      "metadata": {
        "id": "TVVkD6EjkGtz"
      }
    },
    {
      "cell_type": "code",
      "source": [
        "from tensorflow import keras\n",
        "from tensorflow.keras import layers\n",
        "inputs = keras.Input(shape=(28, 28, 1))\n",
        "x = layers.Conv2D(filters=16, kernel_size=3, strides=1, activation=\"relu\", padding=\"same\")(inputs)\n",
        "x = layers.MaxPooling2D(pool_size=2, strides=2)(x)\n",
        "x = layers.Conv2D(filters=32, kernel_size=3, strides=1, activation=\"relu\", padding=\"same\")(x)\n",
        "x = layers.MaxPooling2D(pool_size=2, strides=2)(x)\n",
        "x = layers.Conv2D(filters=32, kernel_size=3, strides=1, activation=\"relu\", padding=\"same\")(x)\n",
        "x = layers.Flatten()(x)\n",
        "x = layers.Dense(50, activation=\"relu\")(x)\n",
        "outputs = layers.Dense(10, activation = \"sigmoid\")(x)\n",
        "model = keras.Model(inputs=inputs, outputs=outputs)"
      ],
      "metadata": {
        "id": "r9hObaKMkGec"
      },
      "execution_count": 22,
      "outputs": []
    },
    {
      "cell_type": "markdown",
      "source": [
        "(Q1-2) [20] Compile and fit your model\n",
        " - Use Adam optimizer\n",
        " - Use categorical cross entropy loss\n",
        " - Use accuracy as for the evaluation metric\n",
        " - Use epoch as 5 and batch size as 32"
      ],
      "metadata": {
        "id": "e87OvuVjlxOy"
      }
    },
    {
      "cell_type": "code",
      "source": [
        "model.compile(loss=\"categorical_crossentropy\",\n",
        "              optimizer=\"Adam\",\n",
        "              metrics=[\"accuracy\"])\n",
        "history = model.fit(\n",
        "    x_train,\n",
        "    train_labels,\n",
        "    epochs=5,\n",
        "    batch_size=32)"
      ],
      "metadata": {
        "id": "CGpqxIoDmb1H",
        "colab": {
          "base_uri": "https://localhost:8080/"
        },
        "outputId": "b4ada9a5-1dc9-482a-956e-2ce2d9452fe4"
      },
      "execution_count": 11,
      "outputs": [
        {
          "output_type": "stream",
          "name": "stdout",
          "text": [
            "Epoch 1/5\n",
            "1875/1875 [==============================] - 50s 27ms/step - loss: 0.1487 - accuracy: 0.9548\n",
            "Epoch 2/5\n",
            "1875/1875 [==============================] - 52s 28ms/step - loss: 0.0472 - accuracy: 0.9853\n",
            "Epoch 3/5\n",
            "1875/1875 [==============================] - 52s 28ms/step - loss: 0.0341 - accuracy: 0.9890\n",
            "Epoch 4/5\n",
            "1875/1875 [==============================] - 56s 30ms/step - loss: 0.0258 - accuracy: 0.9915\n",
            "Epoch 5/5\n",
            "1875/1875 [==============================] - 54s 29ms/step - loss: 0.0204 - accuracy: 0.9933\n"
          ]
        }
      ]
    },
    {
      "cell_type": "markdown",
      "source": [
        "(Q1-3) [20] Try Data augmentation for training \n",
        "\n",
        "- Apply RandomFlip (horizontal flip) and RandomRotation. \n"
      ],
      "metadata": {
        "id": "-9GOiVj8l-HK"
      }
    },
    {
      "cell_type": "code",
      "source": [
        "data_augmentation = keras.Sequential(\n",
        "    [\n",
        "        layers.RandomFlip(\"horizontal\"),\n",
        "        layers.RandomRotation(0.1),\n",
        "    ]\n",
        ")"
      ],
      "metadata": {
        "id": "9eN2wiN9mcM6"
      },
      "execution_count": 15,
      "outputs": []
    },
    {
      "cell_type": "code",
      "source": [
        "inputs = keras.Input(shape=(28, 28, 1))\n",
        "x = data_augmentation(inputs)\n",
        "x = layers.Conv2D(filters=16, kernel_size=3, strides=1, activation=\"relu\", padding=\"same\")(inputs)\n",
        "x = layers.MaxPooling2D(pool_size=2)(x)\n",
        "x = layers.Conv2D(filters=32, kernel_size=3, strides=1, activation=\"relu\", padding=\"same\")(x)\n",
        "x = layers.MaxPooling2D(pool_size=2)(x)\n",
        "x = layers.Conv2D(filters=32, kernel_size=3, strides=1, activation=\"relu\", padding=\"same\")(x)\n",
        "x = layers.Flatten()(x)\n",
        "x = layers.Dense(50, activation=\"relu\")(x)\n",
        "outputs = layers.Dense(10, activation = \"sigmoid\")(x)\n",
        "augmentation_model = keras.Model(inputs=inputs, outputs=outputs)"
      ],
      "metadata": {
        "id": "_rq35rvCQuT2"
      },
      "execution_count": 19,
      "outputs": []
    },
    {
      "cell_type": "code",
      "source": [
        "augmentation_model.compile(loss=\"categorical_crossentropy\",\n",
        "              optimizer=\"Adam\",\n",
        "              metrics=[\"accuracy\"])\n",
        "history = augmentation_model.fit(\n",
        "    x_train,\n",
        "    train_labels,\n",
        "    epochs=5,\n",
        "    batch_size=32)"
      ],
      "metadata": {
        "colab": {
          "base_uri": "https://localhost:8080/"
        },
        "id": "LxplzcJ4Q0NO",
        "outputId": "c6d4c497-abeb-4081-96cf-3f25f5a4ad5d"
      },
      "execution_count": 20,
      "outputs": [
        {
          "output_type": "stream",
          "name": "stdout",
          "text": [
            "Epoch 1/5\n",
            "1875/1875 [==============================] - 50s 27ms/step - loss: 0.0185 - accuracy: 0.9943\n",
            "Epoch 2/5\n",
            "1875/1875 [==============================] - 50s 27ms/step - loss: 0.0157 - accuracy: 0.9948\n",
            "Epoch 3/5\n",
            "1875/1875 [==============================] - 52s 28ms/step - loss: 0.0129 - accuracy: 0.9958\n",
            "Epoch 4/5\n",
            "1875/1875 [==============================] - 50s 27ms/step - loss: 0.0095 - accuracy: 0.9969\n",
            "Epoch 5/5\n",
            "1875/1875 [==============================] - 51s 27ms/step - loss: 0.0100 - accuracy: 0.9966\n"
          ]
        }
      ]
    },
    {
      "cell_type": "code",
      "source": [
        "test_loss, test_acc = augmentation_model.evaluate(x_test, test_labels)\n",
        "print(f\"Test accuracy: {test_acc:.3f}\")"
      ],
      "metadata": {
        "colab": {
          "base_uri": "https://localhost:8080/"
        },
        "id": "1nOSqS2RRTt4",
        "outputId": "75b31ea1-e0e9-48fa-b537-65d6aba4ad54"
      },
      "execution_count": 21,
      "outputs": [
        {
          "output_type": "stream",
          "name": "stdout",
          "text": [
            "313/313 [==============================] - 3s 9ms/step - loss: 0.0327 - accuracy: 0.9915\n",
            "Test accuracy: 0.992\n"
          ]
        }
      ]
    },
    {
      "cell_type": "markdown",
      "source": [
        "## Q2 Use Jena climate data"
      ],
      "metadata": {
        "id": "2A8lwnIKm2eN"
      }
    },
    {
      "cell_type": "code",
      "source": [
        "!wget https://s3.amazonaws.com/keras-datasets/jena_climate_2009_2016.csv.zip\n",
        "!unzip jena_climate_2009_2016.csv.zip"
      ],
      "metadata": {
        "colab": {
          "base_uri": "https://localhost:8080/"
        },
        "id": "7KZwOfAOnsLB",
        "outputId": "85f51886-edc4-4049-f5c6-e6137eee3ebc"
      },
      "execution_count": null,
      "outputs": [
        {
          "output_type": "stream",
          "name": "stdout",
          "text": [
            "--2022-06-06 06:06:01--  https://s3.amazonaws.com/keras-datasets/jena_climate_2009_2016.csv.zip\n",
            "Resolving s3.amazonaws.com (s3.amazonaws.com)... 52.216.168.29\n",
            "Connecting to s3.amazonaws.com (s3.amazonaws.com)|52.216.168.29|:443... connected.\n",
            "HTTP request sent, awaiting response... 200 OK\n",
            "Length: 13565642 (13M) [application/zip]\n",
            "Saving to: ‘jena_climate_2009_2016.csv.zip’\n",
            "\n",
            "jena_climate_2009_2 100%[===================>]  12.94M  65.8MB/s    in 0.2s    \n",
            "\n",
            "2022-06-06 06:06:01 (65.8 MB/s) - ‘jena_climate_2009_2016.csv.zip’ saved [13565642/13565642]\n",
            "\n",
            "Archive:  jena_climate_2009_2016.csv.zip\n",
            "  inflating: jena_climate_2009_2016.csv  \n",
            "  inflating: __MACOSX/._jena_climate_2009_2016.csv  \n"
          ]
        }
      ]
    },
    {
      "cell_type": "code",
      "source": [
        "import os\n",
        "fname = os.path.join(\"jena_climate_2009_2016.csv\")\n",
        "\n",
        "with open(fname) as f:\n",
        "    data = f.read()\n",
        "\n",
        "lines = data.split(\"\\n\")\n",
        "header = lines[0].split(\",\")\n",
        "lines = lines[1:]\n",
        "\n",
        "import numpy as np\n",
        "temperature = np.zeros((len(lines),))\n",
        "raw_data = np.zeros((len(lines), len(header) - 1))\n",
        "for i, line in enumerate(lines):\n",
        "    values = [float(x) for x in line.split(\",\")[1:]]\n",
        "    temperature[i] = values[1]\n",
        "    raw_data[i, :] = values[:]"
      ],
      "metadata": {
        "id": "4MmMkQkWnzC1"
      },
      "execution_count": null,
      "outputs": []
    },
    {
      "cell_type": "markdown",
      "source": [
        "ploting temperature"
      ],
      "metadata": {
        "id": "JwTB4U4Ln-EY"
      }
    },
    {
      "cell_type": "code",
      "source": [
        "from matplotlib import pyplot as plt\n",
        "plt.plot(range(len(temperature)), temperature)"
      ],
      "metadata": {
        "colab": {
          "base_uri": "https://localhost:8080/",
          "height": 286
        },
        "id": "QjmLGij2n70u",
        "outputId": "5baa5fd2-d5c9-4414-b01c-5296bbb68c9d"
      },
      "execution_count": null,
      "outputs": [
        {
          "output_type": "execute_result",
          "data": {
            "text/plain": [
              "[<matplotlib.lines.Line2D at 0x7efe32762a90>]"
            ]
          },
          "metadata": {},
          "execution_count": 6
        },
        {
          "output_type": "display_data",
          "data": {
            "text/plain": [
              "<Figure size 432x288 with 1 Axes>"
            ],
            "image/png": "[encoded data removed]"
          },
          "metadata": {
            "needs_background": "light"
          }
        }
      ]
    },
    {
      "cell_type": "markdown",
      "source": [
        "(Q2-1) [20] Visualize first 7 days of temperature"
      ],
      "metadata": {
        "id": "iBpt-HV00iVF"
      }
    },
    {
      "cell_type": "code",
      "source": [
        ""
      ],
      "metadata": {
        "id": "A8VjLGZToTbl"
      },
      "execution_count": null,
      "outputs": []
    },
    {
      "cell_type": "markdown",
      "source": [
        "Computing the number of samples we'll use for each data split"
      ],
      "metadata": {
        "id": "AA5Ob7NHoXUH"
      }
    },
    {
      "cell_type": "code",
      "source": [
        "num_train_samples = int(0.5 * len(raw_data))\n",
        "num_val_samples = int(0.25 * len(raw_data))\n",
        "num_test_samples = len(raw_data) - num_train_samples - num_val_samples\n",
        "print(\"num_train_samples:\", num_train_samples)\n",
        "print(\"num_val_samples:\", num_val_samples)\n",
        "print(\"num_test_samples:\", num_test_samples)"
      ],
      "metadata": {
        "colab": {
          "base_uri": "https://localhost:8080/"
        },
        "id": "LdH3GR_QoHbt",
        "outputId": "56aa8097-84f9-4ebb-9e34-ff1bd75e6381"
      },
      "execution_count": null,
      "outputs": [
        {
          "output_type": "stream",
          "name": "stdout",
          "text": [
            "num_train_samples: 210225\n",
            "num_val_samples: 105112\n",
            "num_test_samples: 105114\n"
          ]
        }
      ]
    },
    {
      "cell_type": "code",
      "source": [
        ""
      ],
      "metadata": {
        "id": "0XNI01BjoQGW"
      },
      "execution_count": null,
      "outputs": []
    },
    {
      "cell_type": "markdown",
      "source": [
        "Normalizing data"
      ],
      "metadata": {
        "id": "FVBICkCSoQ9f"
      }
    },
    {
      "cell_type": "code",
      "source": [
        "mean = raw_data[:num_train_samples].mean(axis=0)\n",
        "raw_data -= mean\n",
        "std = raw_data[:num_train_samples].std(axis=0)\n",
        "raw_data /= std"
      ],
      "metadata": {
        "id": "tAdxKHSDoPAs"
      },
      "execution_count": null,
      "outputs": []
    },
    {
      "cell_type": "markdown",
      "source": [
        "Data preprocessing."
      ],
      "metadata": {
        "id": "e-0X_vhT00h2"
      }
    },
    {
      "cell_type": "code",
      "source": [
        "sampling_rate = 6\n",
        "sequence_length = 120\n",
        "delay = sampling_rate * (sequence_length + 24 - 1)\n",
        "batch_size = 256\n",
        "\n",
        "train_dataset = keras.utils.timeseries_dataset_from_array(\n",
        "    raw_data[:-delay],\n",
        "    targets=temperature[delay:],\n",
        "    sampling_rate=sampling_rate,\n",
        "    sequence_length=sequence_length,\n",
        "    shuffle=True,\n",
        "    batch_size=batch_size,\n",
        "    start_index=0,\n",
        "    end_index=num_train_samples)\n",
        "\n",
        "val_dataset = keras.utils.timeseries_dataset_from_array(\n",
        "    raw_data[:-delay],\n",
        "    targets=temperature[delay:],\n",
        "    sampling_rate=sampling_rate,\n",
        "    sequence_length=sequence_length,\n",
        "    shuffle=True,\n",
        "    batch_size=batch_size,\n",
        "    start_index=num_train_samples,\n",
        "    end_index=num_train_samples + num_val_samples)\n",
        "\n",
        "test_dataset = keras.utils.timeseries_dataset_from_array(\n",
        "    raw_data[:-delay],\n",
        "    targets=temperature[delay:],\n",
        "    sampling_rate=sampling_rate,\n",
        "    sequence_length=sequence_length,\n",
        "    shuffle=True,\n",
        "    batch_size=batch_size,\n",
        "    start_index=num_train_samples + num_val_samples)"
      ],
      "metadata": {
        "id": "kFNlAwNnoZot"
      },
      "execution_count": null,
      "outputs": []
    },
    {
      "cell_type": "code",
      "source": [
        "for samples, targets in train_dataset:\n",
        "    print(\"samples shape:\", samples.shape)\n",
        "    print(\"targets shape:\", targets.shape)\n",
        "    break"
      ],
      "metadata": {
        "colab": {
          "base_uri": "https://localhost:8080/"
        },
        "id": "PGXBPnvlorRP",
        "outputId": "8c875c3f-c02f-4b70-9383-971030e1ed77"
      },
      "execution_count": null,
      "outputs": [
        {
          "output_type": "stream",
          "name": "stdout",
          "text": [
            "samples shape: (256, 120, 14)\n",
            "targets shape: (256,)\n"
          ]
        }
      ]
    },
    {
      "cell_type": "markdown",
      "source": [
        "common sense baseline"
      ],
      "metadata": {
        "id": "FyDXQKyi0N0R"
      }
    },
    {
      "cell_type": "code",
      "source": [
        "def evaluate_naive_method(dataset):\n",
        "    total_abs_err = 0.\n",
        "    samples_seen = 0\n",
        "    for samples, targets in dataset:\n",
        "        preds = samples[:, -1, 1] * std[1] + mean[1]\n",
        "        total_abs_err += np.sum(np.abs(preds - targets))\n",
        "        samples_seen += samples.shape[0]\n",
        "    return total_abs_err / samples_seen\n",
        "\n",
        "print(f\"Validation MAE: {evaluate_naive_method(val_dataset):.2f}\")\n",
        "print(f\"Test MAE: {evaluate_naive_method(test_dataset):.2f}\")"
      ],
      "metadata": {
        "colab": {
          "base_uri": "https://localhost:8080/"
        },
        "id": "Fzm5xF82orG8",
        "outputId": "415cc527-55e4-4d04-a258-ce1d3e0f3b4f"
      },
      "execution_count": null,
      "outputs": [
        {
          "output_type": "stream",
          "name": "stdout",
          "text": [
            "Validation MAE: 2.44\n",
            "Test MAE: 2.62\n"
          ]
        }
      ]
    },
    {
      "cell_type": "markdown",
      "source": [
        "(Q2-2) [20] Modify the code below to perform Bidirectional LSTM using 16 filters. Add dropout layer with dropout probability 0.5.   \n",
        "\n",
        "\n",
        "![image.png](data:image/png;base64,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) "
      ],
      "metadata": {
        "id": "XHQq57LY0SwK"
      }
    },
    {
      "cell_type": "code",
      "source": [
        "from tensorflow import keras\n",
        "from tensorflow.keras import layers\n",
        "\n",
        "inputs = keras.Input(shape=(sequence_length, raw_data.shape[-1]))\n",
        "x = layers.Flatten()(inputs)\n",
        "x = layers.Dense(16, activation=\"relu\")(x)\n",
        "outputs = layers.Dense(1)(x)\n",
        "model = keras.Model(inputs, outputs)\n",
        "\n",
        "callbacks = [\n",
        "    keras.callbacks.ModelCheckpoint(\"jena_dense.keras\",\n",
        "                                    save_best_only=True)\n",
        "]\n",
        "model.compile(optimizer=\"rmsprop\", loss=\"mse\", metrics=[\"mae\"])\n",
        "history = model.fit(train_dataset,\n",
        "                    epochs=3,\n",
        "                    validation_data=val_dataset,\n",
        "                    callbacks=callbacks)\n",
        "\n",
        "model = keras.models.load_model(\"jena_dense.keras\")\n",
        "print(f\"Test MAE: {model.evaluate(test_dataset)[1]:.2f}\")"
      ],
      "metadata": {
        "colab": {
          "base_uri": "https://localhost:8080/"
        },
        "id": "WT0mMptfoq5J",
        "outputId": "06dff7ff-554d-4f2d-b771-ef18dfa4e021"
      },
      "execution_count": null,
      "outputs": [
        {
          "output_type": "stream",
          "name": "stdout",
          "text": [
            "Epoch 1/3\n",
            "819/819 [==============================] - 42s 51ms/step - loss: 13.5275 - mae: 2.8512 - val_loss: 13.4187 - val_mae: 2.8989\n",
            "Epoch 2/3\n",
            "819/819 [==============================] - 42s 51ms/step - loss: 9.5772 - mae: 2.4362 - val_loss: 11.8028 - val_mae: 2.7173\n",
            "Epoch 3/3\n",
            "819/819 [==============================] - 41s 50ms/step - loss: 8.6739 - mae: 2.3181 - val_loss: 10.8952 - val_mae: 2.5993\n",
            "405/405 [==============================] - 14s 33ms/step - loss: 11.8330 - mae: 2.7059\n",
            "Test MAE: 2.71\n"
          ]
        }
      ]
    },
    {
      "cell_type": "code",
      "metadata": {
        "id": "DSHyXp3nzOuI"
      },
      "source": [
        ""
      ],
      "execution_count": null,
      "outputs": []
    }
  ]
}
